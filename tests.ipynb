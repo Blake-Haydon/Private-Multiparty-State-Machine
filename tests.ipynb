{
 "cells": [
  {
   "cell_type": "code",
   "execution_count": 1,
   "metadata": {},
   "outputs": [],
   "source": [
    "from micro_smpc import VirtualMachine, PrivateScalar, SharedScalar"
   ]
  },
  {
   "cell_type": "code",
   "execution_count": 2,
   "metadata": {},
   "outputs": [],
   "source": [
    "# Test addition of SharedScalars\n",
    "\n",
    "alice = VirtualMachine('alice')\n",
    "bob = VirtualMachine('bob')\n",
    "charlie = VirtualMachine('charlie')\n",
    "\n",
    "a = PrivateScalar(12, alice)\n",
    "b = PrivateScalar(10, bob)\n",
    "\n",
    "shared_a = a.share([bob, charlie])\n",
    "shared_b = b.share([alice, charlie])\n",
    "\n",
    "shared_ab = shared_a + shared_b\n",
    "ab = shared_ab.reconstruct(alice)\n",
    "\n",
    "assert ab.value == 22"
   ]
  },
  {
   "cell_type": "code",
   "execution_count": 3,
   "metadata": {},
   "outputs": [],
   "source": [
    "# Test addition of SharedScalar and a public integer\n",
    "\n",
    "alice = VirtualMachine('alice')\n",
    "bob = VirtualMachine('bob')\n",
    "charlie = VirtualMachine('charlie')\n",
    "\n",
    "a = PrivateScalar(12, alice)\n",
    "shared_a = a.share([bob, charlie])\n",
    "\n",
    "shared_sum1 = shared_a + 10\n",
    "sum1 = shared_sum1.reconstruct(alice)\n",
    "\n",
    "shared_sum2 = 10 + shared_a\n",
    "sum2 = shared_sum2.reconstruct(alice)\n",
    "\n",
    "assert sum1.value == 22, sum2.value == 22"
   ]
  },
  {
   "cell_type": "code",
   "execution_count": 4,
   "metadata": {},
   "outputs": [],
   "source": [
    "# Test subtraction of SharedScalars\n",
    "\n",
    "alice = VirtualMachine('alice')\n",
    "bob = VirtualMachine('bob')\n",
    "charlie = VirtualMachine('charlie')\n",
    "\n",
    "a = PrivateScalar(12, alice)\n",
    "b = PrivateScalar(10, bob)\n",
    "\n",
    "shared_a = a.share([bob, charlie])\n",
    "shared_b = b.share([alice, charlie])\n",
    "\n",
    "shared_ab = shared_a - shared_b\n",
    "ab = shared_ab.reconstruct(alice)\n",
    "\n",
    "assert ab.value == 2"
   ]
  },
  {
   "cell_type": "code",
   "execution_count": 5,
   "metadata": {},
   "outputs": [],
   "source": [
    "# Test subtraction of SharedScalar and a public integer\n",
    "\n",
    "alice = VirtualMachine('alice')\n",
    "bob = VirtualMachine('bob')\n",
    "charlie = VirtualMachine('charlie')\n",
    "\n",
    "a = PrivateScalar(12, alice)\n",
    "shared_a = a.share([bob, charlie])\n",
    "\n",
    "shared_diff1 = shared_a - 10\n",
    "diff1 = shared_diff1.reconstruct(alice)\n",
    "\n",
    "shared_diff2 = 14 - shared_a\n",
    "diff2 = shared_diff2.reconstruct(alice)\n",
    "\n",
    "assert diff1.value == 2, diff2.value == 2"
   ]
  },
  {
   "cell_type": "code",
   "execution_count": 6,
   "metadata": {},
   "outputs": [],
   "source": [
    "# Test multiplication of SharedScalars\n",
    "\n",
    "alice = VirtualMachine('alice')\n",
    "bob = VirtualMachine('bob')\n",
    "charlie = VirtualMachine('charlie')\n",
    "\n",
    "a = PrivateScalar(12, alice)\n",
    "b = PrivateScalar(13, bob)\n",
    "\n",
    "shared_a = a.share([bob, charlie])\n",
    "shared_b = b.share([alice, charlie])\n",
    "\n",
    "shared_ab = shared_a * shared_b\n",
    "ab = shared_ab.reconstruct(alice)\n",
    "\n",
    "assert ab.value == 156"
   ]
  },
  {
   "cell_type": "code",
   "execution_count": 7,
   "metadata": {},
   "outputs": [],
   "source": [
    "# Test multiplication of SharedScalar and a public integer\n",
    "\n",
    "alice = VirtualMachine('alice')\n",
    "bob = VirtualMachine('bob')\n",
    "charlie = VirtualMachine('charlie')\n",
    "\n",
    "a = PrivateScalar(12, alice)\n",
    "b = 10\n",
    "\n",
    "shared_a = a.share([bob, charlie])\n",
    "\n",
    "shared_ab = shared_a * b\n",
    "ab = shared_ab.reconstruct(alice)\n",
    "\n",
    "assert ab.value == 120"
   ]
  },
  {
   "cell_type": "code",
   "execution_count": 8,
   "metadata": {},
   "outputs": [],
   "source": [
    "alice = VirtualMachine('alice')\n",
    "bob = VirtualMachine('bob')\n"
   ]
  },
  {
   "cell_type": "code",
   "execution_count": 11,
   "metadata": {},
   "outputs": [],
   "source": [
    "a = PrivateScalar(25, alice)\n",
    "b = PrivateScalar(50, bob)"
   ]
  },
  {
   "cell_type": "code",
   "execution_count": 12,
   "metadata": {},
   "outputs": [],
   "source": [
    "shared_a = a.share([bob])\n",
    "shared_b = b.share([alice])"
   ]
  },
  {
   "cell_type": "code",
   "execution_count": 23,
   "metadata": {},
   "outputs": [],
   "source": [
    "shared_output =  (shared_a * shared_b) - 5 * (shared_a + shared_b)"
   ]
  },
  {
   "cell_type": "code",
   "execution_count": 24,
   "metadata": {},
   "outputs": [
    {
     "data": {
      "text/plain": [
       "PrivateScalar(875, 'alice')"
      ]
     },
     "execution_count": 24,
     "metadata": {},
     "output_type": "execute_result"
    }
   ],
   "source": [
    "shared_output.reconstruct(alice)"
   ]
  },
  {
   "cell_type": "code",
   "execution_count": null,
   "metadata": {},
   "outputs": [],
   "source": []
  }
 ],
 "metadata": {
  "kernelspec": {
   "display_name": "Python 3",
   "language": "python",
   "name": "python3"
  },
  "language_info": {
   "codemirror_mode": {
    "name": "ipython",
    "version": 3
   },
   "file_extension": ".py",
   "mimetype": "text/x-python",
   "name": "python",
   "nbconvert_exporter": "python",
   "pygments_lexer": "ipython3",
   "version": "3.7.6"
  }
 },
 "nbformat": 4,
 "nbformat_minor": 4
}
