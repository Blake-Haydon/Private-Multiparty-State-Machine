{
 "cells": [
  {
   "cell_type": "code",
   "execution_count": 1,
   "metadata": {},
   "outputs": [],
   "source": [
    "from tinysmpc import VirtualMachine, PrivateScalar, SharedScalar\n",
    "from tinysmpc.finite_ring import MAX_INT64, MIN_INT64\n",
    "from tinysmpc.secret_share import Share"
   ]
  },
  {
   "cell_type": "code",
   "execution_count": 2,
   "metadata": {},
   "outputs": [],
   "source": [
    "def test_compare(x, r):  \n",
    "    alice = VirtualMachine('alice')\n",
    "    bob = VirtualMachine('bob')\n",
    "    x_sh = PrivateScalar(x, alice).share([bob])\n",
    "    assert (x_sh > r).value == (x > r)"
   ]
  },
  {
   "cell_type": "code",
   "execution_count": 3,
   "metadata": {},
   "outputs": [
    {
     "name": "stdout",
     "output_type": "stream",
     "text": [
      "1\n",
      "200\n",
      "100\n",
      "100\n",
      "9223372036854775807\n",
      "-9223372036854775808\n",
      "-9223372036854775808\n",
      "9223372036854775807\n",
      "100\n",
      "-100\n",
      "-100\n",
      "-200\n"
     ]
    }
   ],
   "source": [
    "test_compare(1, 0)\n",
    "test_compare(200, 100)\n",
    "test_compare(100, 100)\n",
    "test_compare(100, 200)\n",
    "test_compare(MAX_INT64, MAX_INT64)\n",
    "test_compare(MIN_INT64, MIN_INT64)\n",
    "test_compare(MIN_INT64, MAX_INT64)\n",
    "test_compare(MAX_INT64, MIN_INT64)\n",
    "test_compare(100, -100)\n",
    "test_compare(-100, 100)\n",
    "test_compare(-100, -200)\n",
    "test_compare(-200, -100)"
   ]
  },
  {
   "cell_type": "markdown",
   "metadata": {
    "collapsed": "true"
   },
   "source": [
    "## Test Reconstruction"
   ]
  },
  {
   "cell_type": "code",
   "execution_count": 4,
   "metadata": {},
   "outputs": [],
   "source": [
    "# Reconstruction of PrivateScalar -> SharedScalar -> PrivateScalar\n",
    "\n",
    "alice = VirtualMachine('alice')\n",
    "bob = VirtualMachine('bob')\n",
    "charlie = VirtualMachine('charlie')\n",
    "\n",
    "a = PrivateScalar(123456, alice)\n",
    "b = PrivateScalar(-123456, bob)\n",
    "\n",
    "a_shared = a.share([bob, charlie])\n",
    "b_shared = b.share([alice, charlie])\n",
    "\n",
    "a_rec = a_shared.reconstruct(alice)\n",
    "b_rec = b_shared.reconstruct(bob)\n",
    "\n",
    "assert a_rec.value == 123456 and b_rec.value == -123456"
   ]
  },
  {
   "cell_type": "code",
   "execution_count": 5,
   "metadata": {},
   "outputs": [],
   "source": [
    "# Reconstruction of PrivateScalar -> SharedScalar -> PrivateScalar in a small prime ring\n",
    "\n",
    "alice = VirtualMachine('alice')\n",
    "bob = VirtualMachine('bob')\n",
    "charlie = VirtualMachine('charlie')\n",
    "\n",
    "a = PrivateScalar(13, alice)\n",
    "a_shared = a.share([bob, charlie], Q=67)\n",
    "\n",
    "a_rec = a_shared.reconstruct(alice)\n",
    "\n",
    "assert a_rec.value == 13"
   ]
  },
  {
   "cell_type": "markdown",
   "metadata": {
    "collapsed": "true"
   },
   "source": [
    "## Test Addition"
   ]
  },
  {
   "cell_type": "code",
   "execution_count": 6,
   "metadata": {},
   "outputs": [],
   "source": [
    "# Addition of SharedScalars\n",
    "\n",
    "alice = VirtualMachine('alice')\n",
    "bob = VirtualMachine('bob')\n",
    "charlie = VirtualMachine('charlie')\n",
    "\n",
    "a = PrivateScalar(100, alice)\n",
    "b = PrivateScalar(120, bob)\n",
    "c = PrivateScalar(-40, charlie)\n",
    "\n",
    "a_shared = a.share([bob, charlie])\n",
    "b_shared = b.share([alice, charlie])\n",
    "c_shared = c.share([alice, bob])\n",
    "\n",
    "res_shared = a_shared + b_shared + c_shared\n",
    "res = res_shared.reconstruct(alice)\n",
    "\n",
    "assert res.value == 180"
   ]
  },
  {
   "cell_type": "code",
   "execution_count": 7,
   "metadata": {},
   "outputs": [],
   "source": [
    "# Addition of SharedScalar and a public integer\n",
    "\n",
    "alice = VirtualMachine('alice')\n",
    "bob = VirtualMachine('bob')\n",
    "charlie = VirtualMachine('charlie')\n",
    "\n",
    "a = PrivateScalar(120, alice)\n",
    "a_shared = a.share([bob, charlie])\n",
    "\n",
    "res_shared = 100 + a_shared + (-90)\n",
    "res = res_shared.reconstruct(alice)\n",
    "\n",
    "assert res.value == 130"
   ]
  },
  {
   "cell_type": "code",
   "execution_count": 8,
   "metadata": {},
   "outputs": [],
   "source": [
    "# Addition of SharedScalars in a small prime ring\n",
    "\n",
    "alice = VirtualMachine('alice')\n",
    "bob = VirtualMachine('bob')\n",
    "charlie = VirtualMachine('charlie')\n",
    "\n",
    "a = PrivateScalar(12, alice)\n",
    "b = PrivateScalar(10, bob)\n",
    "\n",
    "a_shared = a.share([bob, charlie], Q=67)\n",
    "b_shared = b.share([alice, charlie], Q=67)\n",
    "\n",
    "res_shared = a_shared + b_shared\n",
    "res = res_shared.reconstruct(alice)\n",
    "\n",
    "assert res.value == 22"
   ]
  },
  {
   "cell_type": "code",
   "execution_count": 9,
   "metadata": {},
   "outputs": [],
   "source": [
    "# Addition of SharedScalar and a public integer in a small prime ring\n",
    "\n",
    "alice = VirtualMachine('alice')\n",
    "bob = VirtualMachine('bob')\n",
    "charlie = VirtualMachine('charlie')\n",
    "\n",
    "a = PrivateScalar(12, alice)\n",
    "a_shared = a.share([bob, charlie], Q=67)\n",
    "\n",
    "res_shared = 10 + a_shared + (-4)\n",
    "res = res_shared.reconstruct(alice)\n",
    "\n",
    "assert res.value == 18"
   ]
  },
  {
   "cell_type": "markdown",
   "metadata": {
    "collapsed": "true"
   },
   "source": [
    "## Test Subtraction"
   ]
  },
  {
   "cell_type": "code",
   "execution_count": 10,
   "metadata": {},
   "outputs": [
    {
     "name": "stdout",
     "output_type": "stream",
     "text": [
      "SharedScalar\n",
      " - Share(6195533907941878514, 'bob', Q=None)\n",
      " - Share(5265315265943093730, 'charlie', Q=None)\n",
      " - Share(6985894899824580572, 'alice', Q=None) SharedScalar\n",
      " - Share(-481947942727721295, 'alice', Q=None)\n",
      " - Share(-7474224885761779717, 'charlie', Q=None)\n",
      " - Share(7956172828489501112, 'bob', Q=None)\n",
      "SharedScalar\n",
      " - Share(-1760638920547622598, 'bob', Q=None)\n",
      " - Share(-5707203922004678169, 'charlie', Q=None)\n",
      " - Share(7467842842552301867, 'alice', Q=None) SharedScalar\n",
      " - Share(-7304903432753185806, 'alice', Q=None)\n",
      " - Share(7707051927962128164, 'bob', Q=None)\n",
      " - Share(-402148495208942378, 'charlie', Q=None)\n"
     ]
    }
   ],
   "source": [
    "# Subtraction of SharedScalars\n",
    "\n",
    "alice = VirtualMachine('alice')\n",
    "bob = VirtualMachine('bob')\n",
    "charlie = VirtualMachine('charlie')\n",
    "\n",
    "a = PrivateScalar(1200, alice)\n",
    "b = PrivateScalar(100, bob)\n",
    "c = PrivateScalar(-20, charlie)\n",
    "\n",
    "a_shared = a.share([bob, charlie])\n",
    "b_shared = b.share([alice, charlie])\n",
    "c_shared = c.share([alice, bob])\n",
    "\n",
    "res_shared = a_shared - b_shared - c_shared\n",
    "res = res_shared.reconstruct(alice)\n",
    "\n",
    "assert res.value == 1120"
   ]
  },
  {
   "cell_type": "code",
   "execution_count": 11,
   "metadata": {},
   "outputs": [
    {
     "name": "stdout",
     "output_type": "stream",
     "text": [
      "SharedScalar\n",
      " - Share(3490374647918964655, 'bob', Q=None)\n",
      " - Share(1866088538061998124, 'charlie', Q=None)\n",
      " - Share(-5356463185980961579, 'alice', Q=None) -100\n"
     ]
    }
   ],
   "source": [
    "# Subtraction of SharedScalar and a public integer\n",
    "\n",
    "alice = VirtualMachine('alice')\n",
    "bob = VirtualMachine('bob')\n",
    "charlie = VirtualMachine('charlie')\n",
    "\n",
    "a = PrivateScalar(1200, alice)\n",
    "a_shared = a.share([bob, charlie])\n",
    "\n",
    "res_shared = 2400 - a_shared - (-100)\n",
    "res = res_shared.reconstruct(alice)\n",
    "\n",
    "assert res.value == 1300"
   ]
  },
  {
   "cell_type": "code",
   "execution_count": 12,
   "metadata": {},
   "outputs": [
    {
     "name": "stdout",
     "output_type": "stream",
     "text": [
      "SharedScalar\n",
      " - Share(66, 'bob', Q=67)\n",
      " - Share(17, 'charlie', Q=67)\n",
      " - Share(63, 'alice', Q=67) SharedScalar\n",
      " - Share(36, 'alice', Q=67)\n",
      " - Share(12, 'charlie', Q=67)\n",
      " - Share(29, 'bob', Q=67)\n"
     ]
    }
   ],
   "source": [
    "# Subtraction of SharedScalars in a small prime ring\n",
    "\n",
    "alice = VirtualMachine('alice')\n",
    "bob = VirtualMachine('bob')\n",
    "charlie = VirtualMachine('charlie')\n",
    "\n",
    "a = PrivateScalar(12, alice)\n",
    "b = PrivateScalar(10, bob)\n",
    "\n",
    "a_shared = a.share([bob, charlie], Q=67)\n",
    "b_shared = b.share([alice, charlie], Q=67)\n",
    "\n",
    "res_shared = a_shared - b_shared\n",
    "res = res_shared.reconstruct(alice)\n",
    "\n",
    "assert res.value == 2"
   ]
  },
  {
   "cell_type": "code",
   "execution_count": 13,
   "metadata": {},
   "outputs": [
    {
     "name": "stdout",
     "output_type": "stream",
     "text": [
      "SharedScalar\n",
      " - Share(35, 'bob', Q=67)\n",
      " - Share(28, 'charlie', Q=67)\n",
      " - Share(6, 'alice', Q=67) -4\n"
     ]
    }
   ],
   "source": [
    "# Subtraction of SharedScalar and a public integer in a small prime ring\n",
    "\n",
    "alice = VirtualMachine('alice')\n",
    "bob = VirtualMachine('bob')\n",
    "charlie = VirtualMachine('charlie')\n",
    "\n",
    "a = PrivateScalar(10, alice)\n",
    "a_shared = a.share([bob, charlie], Q=67)\n",
    "\n",
    "res_shared = 12 - a_shared - (-4)\n",
    "res = res_shared.reconstruct(alice)\n",
    "\n",
    "assert res.value == 6"
   ]
  },
  {
   "cell_type": "markdown",
   "metadata": {
    "collapsed": "true"
   },
   "source": [
    "## Test Multiplication"
   ]
  },
  {
   "cell_type": "code",
   "execution_count": 14,
   "metadata": {},
   "outputs": [
    {
     "name": "stdout",
     "output_type": "stream",
     "text": [
      "SharedScalar\n",
      " - Share(7503662644878993032, 'bob', Q=None)\n",
      " - Share(4274692272642901020, 'charlie', Q=None)\n",
      " - Share(6668389156187657684, 'alice', Q=None) SharedScalar\n",
      " - Share(-8611395956732168151, 'bob', Q=None)\n",
      " - Share(-3278267394783191836, 'charlie', Q=None)\n",
      " - Share(-8792307081828664197, 'alice', Q=None)\n",
      "SharedScalar\n",
      " - Share(4058216831414723325, 'alice', Q=None)\n",
      " - Share(-7385083567585639932, 'charlie', Q=None)\n",
      " - Share(3326866736170916737, 'bob', Q=None) SharedScalar\n",
      " - Share(5868880330486253843, 'bob', Q=None)\n",
      " - Share(158019307178700574, 'charlie', Q=None)\n",
      " - Share(-1505735867136957265, 'alice', Q=None)\n",
      "SharedScalar\n",
      " - Share(-8032491332943256877, 'bob', Q=None)\n",
      " - Share(6392315972009807484, 'charlie', Q=None)\n",
      " - Share(1640175360933464993, 'alice', Q=None) SharedScalar\n",
      " - Share(-1393208853967637992, 'bob', Q=None)\n",
      " - Share(7098565307001571220, 'charlie', Q=None)\n",
      " - Share(-8349849186479283858, 'alice', Q=None)\n",
      "SharedScalar\n",
      " - Share(3711233505798903528, 'alice', Q=None)\n",
      " - Share(-8742528276225723367, 'bob', Q=None)\n",
      " - Share(5031294770426819837, 'charlie', Q=None) SharedScalar\n",
      " - Share(-3950683341093547024, 'bob', Q=None)\n",
      " - Share(-522506257572031796, 'charlie', Q=None)\n",
      " - Share(-1050949557243776383, 'alice', Q=None)\n"
     ]
    }
   ],
   "source": [
    "# Multiplication of SharedScalars\n",
    "\n",
    "alice = VirtualMachine('alice')\n",
    "bob = VirtualMachine('bob')\n",
    "charlie = VirtualMachine('charlie')\n",
    "\n",
    "a = PrivateScalar(120, alice)\n",
    "b = PrivateScalar(130, bob)\n",
    "c = PrivateScalar(-2, charlie)\n",
    "\n",
    "a_shared = a.share([bob, charlie])\n",
    "b_shared = b.share([alice, charlie])\n",
    "c_shared = c.share([alice, bob])\n",
    "\n",
    "res_shared = a_shared * b_shared * c_shared\n",
    "res = res_shared.reconstruct(alice)\n",
    "\n",
    "assert res.value == -31200"
   ]
  },
  {
   "cell_type": "code",
   "execution_count": 15,
   "metadata": {},
   "outputs": [],
   "source": [
    "# Multiplication of SharedScalar and a public integer\n",
    "\n",
    "alice = VirtualMachine('alice')\n",
    "bob = VirtualMachine('bob')\n",
    "charlie = VirtualMachine('charlie')\n",
    "\n",
    "a = PrivateScalar(120, alice)\n",
    "a_shared = a.share([bob, charlie])\n",
    "\n",
    "res_shared = 130 * a_shared * (-2)\n",
    "res = res_shared.reconstruct(alice)\n",
    "\n",
    "assert res.value == -31200"
   ]
  },
  {
   "cell_type": "code",
   "execution_count": 16,
   "metadata": {},
   "outputs": [
    {
     "name": "stdout",
     "output_type": "stream",
     "text": [
      "SharedScalar\n",
      " - Share(12, 'bob', Q=67)\n",
      " - Share(7, 'charlie', Q=67)\n",
      " - Share(53, 'alice', Q=67) SharedScalar\n",
      " - Share(48, 'alice', Q=67)\n",
      " - Share(4, 'charlie', Q=67)\n",
      " - Share(48, 'bob', Q=67)\n",
      "SharedScalar\n",
      " - Share(18, 'alice', Q=67)\n",
      " - Share(37, 'charlie', Q=67)\n",
      " - Share(16, 'bob', Q=67) SharedScalar\n",
      " - Share(33, 'alice', Q=67)\n",
      " - Share(2, 'charlie', Q=67)\n",
      " - Share(44, 'bob', Q=67)\n"
     ]
    }
   ],
   "source": [
    "# Multiplication of SharedScalars in a small prime ring\n",
    "\n",
    "alice = VirtualMachine('alice')\n",
    "bob = VirtualMachine('bob')\n",
    "charlie = VirtualMachine('charlie')\n",
    "\n",
    "a = PrivateScalar(5, alice)\n",
    "b = PrivateScalar(4, bob)\n",
    "\n",
    "a_shared = a.share([bob, charlie], Q=67)\n",
    "b_shared = b.share([alice, charlie], Q=67)\n",
    "\n",
    "res_shared = a_shared * b_shared\n",
    "res = res_shared.reconstruct(alice)\n",
    "\n",
    "assert res.value == 20"
   ]
  },
  {
   "cell_type": "code",
   "execution_count": 17,
   "metadata": {},
   "outputs": [],
   "source": [
    "# Multiplication of SharedScalar and a public integer in a small prime ring\n",
    "\n",
    "alice = VirtualMachine('alice')\n",
    "bob = VirtualMachine('bob')\n",
    "charlie = VirtualMachine('charlie')\n",
    "\n",
    "a = PrivateScalar(5, alice)\n",
    "a_shared = a.share([bob, charlie], Q=67)\n",
    "\n",
    "res_shared = 4 * a_shared * (-1)  # This product (-20) is not representable in a prime field, and will be modulo'ed to 54 (== -20 % 67)\n",
    "res = res_shared.reconstruct(alice)\n",
    "\n",
    "assert res.value == 47"
   ]
  },
  {
   "cell_type": "markdown",
   "metadata": {
    "collapsed": "true"
   },
   "source": [
    "## Test Compare"
   ]
  },
  {
   "cell_type": "markdown",
   "metadata": {
    "collapsed": "true"
   },
   "source": [
    "## Test Asserts "
   ]
  },
  {
   "cell_type": "code",
   "execution_count": 18,
   "metadata": {},
   "outputs": [],
   "source": [
    "# Cannot share a PrivateScalar with the PrivateScalar's owner\n",
    "\n",
    "def test_assert():\n",
    "    alice = VirtualMachine('alice')\n",
    "    bob = VirtualMachine('bob')\n",
    "\n",
    "    a = PrivateScalar(10, alice)\n",
    "\n",
    "    try: a.share([alice])\n",
    "    except AssertionError as e: return True\n",
    "    \n",
    "assert test_assert()"
   ]
  },
  {
   "cell_type": "code",
   "execution_count": 19,
   "metadata": {},
   "outputs": [],
   "source": [
    "# Cannot share a PrivateScalar with duplicate VirtualMachines\n",
    "\n",
    "def test_assert():\n",
    "    alice = VirtualMachine('alice')\n",
    "    bob = VirtualMachine('bob')\n",
    "\n",
    "    a = PrivateScalar(10, alice)\n",
    "\n",
    "    try: a.share([bob, bob])\n",
    "    except AssertionError as e: return True\n",
    "    \n",
    "assert test_assert()"
   ]
  },
  {
   "cell_type": "code",
   "execution_count": 20,
   "metadata": {},
   "outputs": [
    {
     "name": "stdout",
     "output_type": "stream",
     "text": [
      "9223372036854775808 is not an int64 and cannot be reconstructed. Use a smaller value.\n"
     ]
    }
   ],
   "source": [
    "# Cannot share an int64 that is too large\n",
    "\n",
    "def test_assert():\n",
    "    alice = VirtualMachine('alice')\n",
    "    bob = VirtualMachine('bob')\n",
    "\n",
    "    MAX_INT64 = 9223372036854775807\n",
    "    a = PrivateScalar(MAX_INT64 + 1, alice)\n",
    "\n",
    "    try: a.share([bob])\n",
    "    except AssertionError as e: print(e); return True\n",
    "    \n",
    "assert test_assert()"
   ]
  },
  {
   "cell_type": "code",
   "execution_count": 21,
   "metadata": {},
   "outputs": [
    {
     "name": "stdout",
     "output_type": "stream",
     "text": [
      "-1 does not fit inside a size-67 prime ring, so it cannot be split into shares that can be reconstructed. Use a larger Q or a smaller value.\n"
     ]
    }
   ],
   "source": [
    "# Cannot share an int that is too large for the prime ring\n",
    "\n",
    "def test_assert():\n",
    "    alice = VirtualMachine('alice')\n",
    "    bob = VirtualMachine('bob')\n",
    "\n",
    "    a = PrivateScalar(-1, alice)\n",
    "\n",
    "    try: a.share([bob], Q=67)\n",
    "    except AssertionError as e: print(e); return True\n",
    "    \n",
    "assert test_assert()"
   ]
  },
  {
   "cell_type": "code",
   "execution_count": 22,
   "metadata": {},
   "outputs": [
    {
     "name": "stdout",
     "output_type": "stream",
     "text": [
      "9223372036854775808 is not an int64 and cannot be reconstructed. Use a smaller value.\n"
     ]
    }
   ],
   "source": [
    "# Cannot create a Share that is over an int64\n",
    "\n",
    "def test_assert():\n",
    "    alice = VirtualMachine('alice')\n",
    "    \n",
    "    MAX_INT64 = 9223372036854775807\n",
    "    try: Share(MAX_INT64 + 1, alice)\n",
    "    except AssertionError as e: print(e); return True\n",
    "\n",
    "assert test_assert()"
   ]
  },
  {
   "cell_type": "code",
   "execution_count": 23,
   "metadata": {},
   "outputs": [
    {
     "name": "stdout",
     "output_type": "stream",
     "text": [
      "-1 does not fit inside a size-67 prime ring, so it cannot be split into shares that can be reconstructed. Use a larger Q or a smaller value.\n"
     ]
    }
   ],
   "source": [
    "# Cannot create a Share that is too large for the prime ring\n",
    "\n",
    "def test_assert():\n",
    "    alice = VirtualMachine('alice')\n",
    "    \n",
    "    try: Share(-1, alice, Q=67)\n",
    "    except AssertionError as e: print(e); return True\n",
    "\n",
    "assert test_assert()"
   ]
  },
  {
   "cell_type": "code",
   "execution_count": 24,
   "metadata": {},
   "outputs": [
    {
     "name": "stdout",
     "output_type": "stream",
     "text": [
      "Share(5537799283467273313, 'alice', Q=None) and Share(-5537799283467273308, 'bob', Q=None) do not have the same owners.\n"
     ]
    }
   ],
   "source": [
    "# Cannot add Shares on different VirtualMachines\n",
    "\n",
    "def test_assert():\n",
    "    alice = VirtualMachine('alice')\n",
    "    bob = VirtualMachine('bob')\n",
    "\n",
    "    a = PrivateScalar(5, alice)\n",
    "\n",
    "    a_shared = a.share([bob])\n",
    "    \n",
    "    try: a_shared.share_of[alice] + a_shared.share_of[bob]\n",
    "    except AssertionError as e: print(e); return True\n",
    "\n",
    "assert test_assert()"
   ]
  },
  {
   "cell_type": "code",
   "execution_count": 25,
   "metadata": {},
   "outputs": [
    {
     "name": "stdout",
     "output_type": "stream",
     "text": [
      "SharedScalar\n",
      " - Share(-8486355279498242536, 'bob', Q=None)\n",
      " - Share(8486355279498242541, 'alice', Q=None)\n",
      "and\n",
      "SharedScalar\n",
      " - Share(10, 'alice', Q=67)\n",
      " - Share(0, 'bob', Q=67)\n",
      "are not over the same rings.\n"
     ]
    }
   ],
   "source": [
    "# Cannot add Shares on different fields\n",
    "\n",
    "def test_assert():\n",
    "    alice = VirtualMachine('alice')\n",
    "    bob = VirtualMachine('bob')\n",
    "\n",
    "    a = PrivateScalar(5, alice)\n",
    "    b = PrivateScalar(10, bob)\n",
    "\n",
    "    a_shared = a.share([bob])\n",
    "    b_shared = b.share([alice], Q=67)\n",
    "    \n",
    "    try: a_shared + b_shared\n",
    "    except AssertionError as e: print(e); return True\n",
    "\n",
    "assert test_assert()"
   ]
  },
  {
   "cell_type": "code",
   "execution_count": 26,
   "metadata": {},
   "outputs": [
    {
     "name": "stdout",
     "output_type": "stream",
     "text": [
      "Share(7882103848781226587, 'alice', Q=None) and Share(-7882103848781226582, 'bob', Q=None) do not have the same owners.\n"
     ]
    }
   ],
   "source": [
    "# Cannot multiply Shares on different VirtualMachines\n",
    "\n",
    "def test_assert():\n",
    "    alice = VirtualMachine('alice')\n",
    "    bob = VirtualMachine('bob')\n",
    "\n",
    "    a = PrivateScalar(5, alice)\n",
    "\n",
    "    a_shared = a.share([bob])\n",
    "    \n",
    "    try: a_shared.share_of[alice] * a_shared.share_of[bob]\n",
    "    except AssertionError as e: print(e); return True\n",
    "\n",
    "assert test_assert()"
   ]
  },
  {
   "cell_type": "code",
   "execution_count": 27,
   "metadata": {},
   "outputs": [
    {
     "name": "stdout",
     "output_type": "stream",
     "text": [
      "SharedScalar\n",
      " - Share(-8549930059227732736, 'bob', Q=None)\n",
      " - Share(8549930059227732741, 'alice', Q=None)\n",
      "and\n",
      "SharedScalar\n",
      " - Share(64, 'alice', Q=67)\n",
      " - Share(13, 'bob', Q=67)\n",
      "are not over the same rings.\n"
     ]
    }
   ],
   "source": [
    "# Cannot multiply Shares on different fields\n",
    "\n",
    "def test_assert():\n",
    "    alice = VirtualMachine('alice')\n",
    "    bob = VirtualMachine('bob')\n",
    "\n",
    "    a = PrivateScalar(5, alice)\n",
    "    b = PrivateScalar(10, bob)\n",
    "\n",
    "    a_shared = a.share([bob])\n",
    "    b_shared = b.share([alice], Q=67)\n",
    "    \n",
    "    try: a_shared * b_shared\n",
    "    except AssertionError as e: print(e); return True\n",
    "\n",
    "assert test_assert()"
   ]
  }
 ],
 "metadata": {
  "kernelspec": {
   "display_name": "Python 3",
   "language": "python",
   "name": "python3"
  },
  "language_info": {
   "codemirror_mode": {
    "name": "ipython",
    "version": 3
   },
   "file_extension": ".py",
   "mimetype": "text/x-python",
   "name": "python",
   "nbconvert_exporter": "python",
   "pygments_lexer": "ipython3",
   "version": "3.7.6"
  }
 },
 "nbformat": 4,
 "nbformat_minor": 4
}
