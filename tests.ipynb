{
 "cells": [
  {
   "cell_type": "code",
   "execution_count": 1,
   "metadata": {},
   "outputs": [],
   "source": [
    "# %load_ext autoreload\n",
    "# %autoreload 2"
   ]
  },
  {
   "cell_type": "code",
   "execution_count": 2,
   "metadata": {},
   "outputs": [],
   "source": [
    "from micro_smpc import VirtualMachine, PrivateScalar, SharedScalar, Share"
   ]
  },
  {
   "cell_type": "code",
   "execution_count": 3,
   "metadata": {},
   "outputs": [],
   "source": [
    "# Test addition of SharedScalars\n",
    "\n",
    "alice = VirtualMachine('alice')\n",
    "bob = VirtualMachine('bob')\n",
    "charlie = VirtualMachine('charlie')\n",
    "\n",
    "a = PrivateScalar(100, alice)\n",
    "b = PrivateScalar(120, bob)\n",
    "\n",
    "shared_a = a.share([bob, charlie])\n",
    "shared_b = b.share([alice, charlie])\n",
    "\n",
    "shared_ab = shared_a + shared_b\n",
    "ab = shared_ab.reconstruct(alice)\n",
    "\n",
    "assert ab.value == 220"
   ]
  },
  {
   "cell_type": "code",
   "execution_count": 4,
   "metadata": {},
   "outputs": [],
   "source": [
    "# Test addition of SharedScalar and a public integer\n",
    "\n",
    "alice = VirtualMachine('alice')\n",
    "bob = VirtualMachine('bob')\n",
    "charlie = VirtualMachine('charlie')\n",
    "\n",
    "a = PrivateScalar(120, alice)\n",
    "shared_a = a.share([bob, charlie])\n",
    "\n",
    "shared_ab1 = shared_a + 100\n",
    "ab1 = shared_ab1.reconstruct(alice)\n",
    "\n",
    "shared_ab2 = 100 + shared_a\n",
    "ab2 = shared_ab2.reconstruct(alice)\n",
    "\n",
    "assert ab1.value == 220, ab2.value == 220"
   ]
  },
  {
   "cell_type": "code",
   "execution_count": 5,
   "metadata": {},
   "outputs": [],
   "source": [
    "# Test addition of SharedScalars on a smaller field size\n",
    "\n",
    "alice = VirtualMachine('alice')\n",
    "bob = VirtualMachine('bob')\n",
    "charlie = VirtualMachine('charlie')\n",
    "\n",
    "a = PrivateScalar(12, alice)\n",
    "b = PrivateScalar(10, bob)\n",
    "\n",
    "shared_a = a.share([bob, charlie], Q=67)\n",
    "shared_b = b.share([alice, charlie], Q=67)\n",
    "\n",
    "shared_ab = shared_a + shared_b\n",
    "ab = shared_ab.reconstruct(alice)\n",
    "\n",
    "assert ab.value == 22"
   ]
  },
  {
   "cell_type": "code",
   "execution_count": 6,
   "metadata": {},
   "outputs": [],
   "source": [
    "# Test addition of SharedScalar and a public integer on a smaller field size\n",
    "\n",
    "alice = VirtualMachine('alice')\n",
    "bob = VirtualMachine('bob')\n",
    "charlie = VirtualMachine('charlie')\n",
    "\n",
    "a = PrivateScalar(12, alice)\n",
    "shared_a = a.share([bob, charlie], Q=67)\n",
    "\n",
    "shared_ab1 = shared_a + 10\n",
    "ab1 = shared_ab1.reconstruct(alice)\n",
    "\n",
    "shared_ab2 = 10 + shared_a\n",
    "ab2 = shared_ab2.reconstruct(alice)\n",
    "\n",
    "assert ab1.value == 22, ab2.value == 22"
   ]
  },
  {
   "cell_type": "code",
   "execution_count": 7,
   "metadata": {},
   "outputs": [],
   "source": [
    "# Test subtraction of SharedScalars\n",
    "\n",
    "alice = VirtualMachine('alice')\n",
    "bob = VirtualMachine('bob')\n",
    "charlie = VirtualMachine('charlie')\n",
    "\n",
    "a = PrivateScalar(1200, alice)\n",
    "b = PrivateScalar(101, bob)\n",
    "\n",
    "shared_a = a.share([bob, charlie])\n",
    "shared_b = b.share([alice, charlie])\n",
    "\n",
    "shared_ab = shared_a - shared_b\n",
    "ab = shared_ab.reconstruct(alice)\n",
    "\n",
    "assert ab.value == 1099"
   ]
  },
  {
   "cell_type": "code",
   "execution_count": 8,
   "metadata": {},
   "outputs": [],
   "source": [
    "# Test subtraction of SharedScalar and a public integer\n",
    "\n",
    "alice = VirtualMachine('alice')\n",
    "bob = VirtualMachine('bob')\n",
    "charlie = VirtualMachine('charlie')\n",
    "\n",
    "a = PrivateScalar(1200, alice)\n",
    "shared_a = a.share([bob, charlie])\n",
    "\n",
    "shared_ab1 = shared_a - 101\n",
    "ab1 = shared_ab1.reconstruct(alice)\n",
    "\n",
    "shared_ab2 = 2400 - shared_a\n",
    "ab2 = shared_ab2.reconstruct(alice)\n",
    "\n",
    "assert ab1.value == 1099, ab2.value == 1200"
   ]
  },
  {
   "cell_type": "code",
   "execution_count": 9,
   "metadata": {},
   "outputs": [],
   "source": [
    "# Test subtraction of SharedScalars on a smaller field size\n",
    "\n",
    "alice = VirtualMachine('alice')\n",
    "bob = VirtualMachine('bob')\n",
    "charlie = VirtualMachine('charlie')\n",
    "\n",
    "a = PrivateScalar(12, alice)\n",
    "b = PrivateScalar(10, bob)\n",
    "\n",
    "shared_a = a.share([bob, charlie], Q=67)\n",
    "shared_b = b.share([alice, charlie], Q=67)\n",
    "\n",
    "shared_ab = shared_a - shared_b\n",
    "ab = shared_ab.reconstruct(alice)\n",
    "\n",
    "assert ab.value == 2"
   ]
  },
  {
   "cell_type": "code",
   "execution_count": 10,
   "metadata": {},
   "outputs": [],
   "source": [
    "# Test subtraction of SharedScalar and a public integer on a smaller field size\n",
    "\n",
    "alice = VirtualMachine('alice')\n",
    "bob = VirtualMachine('bob')\n",
    "charlie = VirtualMachine('charlie')\n",
    "\n",
    "a = PrivateScalar(12, alice)\n",
    "shared_a = a.share([bob, charlie], Q=67)\n",
    "\n",
    "shared_ab1 = shared_a - 10\n",
    "ab1 = shared_ab1.reconstruct(alice)\n",
    "\n",
    "shared_ab2 = 14 - shared_a\n",
    "ab2 = shared_ab2.reconstruct(alice)\n",
    "\n",
    "assert ab1.value == 2, ab2.value == 2"
   ]
  },
  {
   "cell_type": "code",
   "execution_count": 11,
   "metadata": {},
   "outputs": [],
   "source": [
    "# Test multiplication of SharedScalars\n",
    "\n",
    "alice = VirtualMachine('alice')\n",
    "bob = VirtualMachine('bob')\n",
    "charlie = VirtualMachine('charlie')\n",
    "\n",
    "a = PrivateScalar(120, alice)\n",
    "b = PrivateScalar(130, bob)\n",
    "\n",
    "shared_a = a.share([bob, charlie])\n",
    "shared_b = b.share([alice, charlie])\n",
    "\n",
    "shared_ab = shared_a * shared_b\n",
    "ab = shared_ab.reconstruct(alice)\n",
    "\n",
    "assert ab.value == 15600"
   ]
  },
  {
   "cell_type": "code",
   "execution_count": 12,
   "metadata": {},
   "outputs": [],
   "source": [
    "# Test multiplication of SharedScalar and a public integer\n",
    "\n",
    "alice = VirtualMachine('alice')\n",
    "bob = VirtualMachine('bob')\n",
    "charlie = VirtualMachine('charlie')\n",
    "\n",
    "a = PrivateScalar(120, alice)\n",
    "shared_a = a.share([bob, charlie])\n",
    "\n",
    "shared_ab1 = shared_a * 130\n",
    "ab1 = shared_ab1.reconstruct(alice)\n",
    "\n",
    "shared_ab2 = 130 * shared_a\n",
    "ab2 = shared_ab2.reconstruct(alice)\n",
    "\n",
    "assert ab1.value == 15600, ab2.value == 15600"
   ]
  },
  {
   "cell_type": "code",
   "execution_count": 13,
   "metadata": {},
   "outputs": [],
   "source": [
    "# Test multiplication of SharedScalars on a smaller field size\n",
    "\n",
    "alice = VirtualMachine('alice')\n",
    "bob = VirtualMachine('bob')\n",
    "charlie = VirtualMachine('charlie')\n",
    "\n",
    "a = PrivateScalar(12, alice)\n",
    "b = PrivateScalar(4, bob)\n",
    "\n",
    "shared_a = a.share([bob, charlie], Q=67)\n",
    "shared_b = b.share([alice, charlie], Q=67)\n",
    "\n",
    "shared_ab = shared_a * shared_b\n",
    "ab = shared_ab.reconstruct(alice)\n",
    "\n",
    "assert ab.value == 48"
   ]
  },
  {
   "cell_type": "code",
   "execution_count": 14,
   "metadata": {},
   "outputs": [],
   "source": [
    "# Test multiplication of SharedScalar and a public integer on a smaller field size\n",
    "\n",
    "alice = VirtualMachine('alice')\n",
    "bob = VirtualMachine('bob')\n",
    "charlie = VirtualMachine('charlie')\n",
    "\n",
    "a = PrivateScalar(12, alice)\n",
    "shared_a = a.share([bob, charlie], Q=67)\n",
    "\n",
    "shared_ab1 = shared_a * 3\n",
    "ab1 = shared_ab1.reconstruct(alice)\n",
    "\n",
    "shared_ab2 = 3 * shared_a\n",
    "ab2 = shared_ab2.reconstruct(alice)\n",
    "\n",
    "assert ab1.value == 36, ab2.value == 36"
   ]
  }
 ],
 "metadata": {
  "kernelspec": {
   "display_name": "Python 3",
   "language": "python",
   "name": "python3"
  },
  "language_info": {
   "codemirror_mode": {
    "name": "ipython",
    "version": 3
   },
   "file_extension": ".py",
   "mimetype": "text/x-python",
   "name": "python",
   "nbconvert_exporter": "python",
   "pygments_lexer": "ipython3",
   "version": "3.7.6"
  }
 },
 "nbformat": 4,
 "nbformat_minor": 4
}
