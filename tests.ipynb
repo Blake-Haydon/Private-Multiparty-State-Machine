{
 "cells": [
  {
   "cell_type": "code",
   "execution_count": null,
   "metadata": {},
   "outputs": [],
   "source": [
    "%load_ext autoreload\n",
    "%autoreload 2"
   ]
  },
  {
   "cell_type": "code",
   "execution_count": 2,
   "metadata": {},
   "outputs": [],
   "source": [
    "from tinysmpc import VirtualMachine, PrivateScalar, SharedScalar, Share"
   ]
  },
  {
   "cell_type": "markdown",
   "metadata": {},
   "source": [
    "## Test Reconstruction"
   ]
  },
  {
   "cell_type": "code",
   "execution_count": 3,
   "metadata": {},
   "outputs": [],
   "source": [
    "# Reconstruction of PrivateScalar -> SharedScalar -> PrivateScalar\n",
    "\n",
    "alice = VirtualMachine('alice')\n",
    "bob = VirtualMachine('bob')\n",
    "charlie = VirtualMachine('charlie')\n",
    "\n",
    "a = PrivateScalar(123456, alice)\n",
    "b = PrivateScalar(-123456, bob)\n",
    "\n",
    "a_shared = a.share([bob, charlie])\n",
    "b_shared = b.share([alice, charlie])\n",
    "\n",
    "a_rec = a_shared.reconstruct(alice)\n",
    "b_rec = b_shared.reconstruct(bob)\n",
    "\n",
    "assert a_rec.value == 123456 and b_rec.value == -123456"
   ]
  },
  {
   "cell_type": "code",
   "execution_count": 4,
   "metadata": {},
   "outputs": [],
   "source": [
    "# Reconstruction of PrivateScalar -> SharedScalar -> PrivateScalar in a small prime ring\n",
    "\n",
    "alice = VirtualMachine('alice')\n",
    "bob = VirtualMachine('bob')\n",
    "charlie = VirtualMachine('charlie')\n",
    "\n",
    "a = PrivateScalar(13, alice)\n",
    "a_shared = a.share([bob, charlie], Q=67)\n",
    "\n",
    "a_rec = a_shared.reconstruct(alice)\n",
    "\n",
    "assert a_rec.value == 13"
   ]
  },
  {
   "cell_type": "markdown",
   "metadata": {},
   "source": [
    "## Test Addition"
   ]
  },
  {
   "cell_type": "code",
   "execution_count": 5,
   "metadata": {},
   "outputs": [],
   "source": [
    "# Addition of SharedScalars\n",
    "\n",
    "alice = VirtualMachine('alice')\n",
    "bob = VirtualMachine('bob')\n",
    "charlie = VirtualMachine('charlie')\n",
    "\n",
    "a = PrivateScalar(100, alice)\n",
    "b = PrivateScalar(120, bob)\n",
    "c = PrivateScalar(-40, charlie)\n",
    "\n",
    "a_shared = a.share([bob, charlie])\n",
    "b_shared = b.share([alice, charlie])\n",
    "c_shared = c.share([alice, bob])\n",
    "\n",
    "res_shared = a_shared + b_shared + c_shared\n",
    "res = res_shared.reconstruct(alice)\n",
    "\n",
    "assert res.value == 180"
   ]
  },
  {
   "cell_type": "code",
   "execution_count": 6,
   "metadata": {},
   "outputs": [],
   "source": [
    "# Addition of SharedScalar and a public integer\n",
    "\n",
    "alice = VirtualMachine('alice')\n",
    "bob = VirtualMachine('bob')\n",
    "charlie = VirtualMachine('charlie')\n",
    "\n",
    "a = PrivateScalar(120, alice)\n",
    "a_shared = a.share([bob, charlie])\n",
    "\n",
    "res_shared = 100 + a_shared + (-90)\n",
    "res = res_shared.reconstruct(alice)\n",
    "\n",
    "assert res.value == 130"
   ]
  },
  {
   "cell_type": "code",
   "execution_count": 7,
   "metadata": {},
   "outputs": [],
   "source": [
    "# Addition of SharedScalars in a small prime ring\n",
    "\n",
    "alice = VirtualMachine('alice')\n",
    "bob = VirtualMachine('bob')\n",
    "charlie = VirtualMachine('charlie')\n",
    "\n",
    "a = PrivateScalar(12, alice)\n",
    "b = PrivateScalar(10, bob)\n",
    "\n",
    "a_shared = a.share([bob, charlie], Q=67)\n",
    "b_shared = b.share([alice, charlie], Q=67)\n",
    "\n",
    "res_shared = a_shared + b_shared\n",
    "res = res_shared.reconstruct(alice)\n",
    "\n",
    "assert res.value == 22"
   ]
  },
  {
   "cell_type": "code",
   "execution_count": 8,
   "metadata": {},
   "outputs": [],
   "source": [
    "# Addition of SharedScalar and a public integer in a small prime ring\n",
    "\n",
    "alice = VirtualMachine('alice')\n",
    "bob = VirtualMachine('bob')\n",
    "charlie = VirtualMachine('charlie')\n",
    "\n",
    "a = PrivateScalar(12, alice)\n",
    "a_shared = a.share([bob, charlie], Q=67)\n",
    "\n",
    "res_shared = 10 + a_shared + (-4)\n",
    "res = res_shared.reconstruct(alice)\n",
    "\n",
    "assert res.value == 18"
   ]
  },
  {
   "cell_type": "markdown",
   "metadata": {},
   "source": [
    "## Test Subtraction"
   ]
  },
  {
   "cell_type": "code",
   "execution_count": 9,
   "metadata": {},
   "outputs": [],
   "source": [
    "# Subtraction of SharedScalars\n",
    "\n",
    "alice = VirtualMachine('alice')\n",
    "bob = VirtualMachine('bob')\n",
    "charlie = VirtualMachine('charlie')\n",
    "\n",
    "a = PrivateScalar(1200, alice)\n",
    "b = PrivateScalar(100, bob)\n",
    "c = PrivateScalar(-20, charlie)\n",
    "\n",
    "a_shared = a.share([bob, charlie])\n",
    "b_shared = b.share([alice, charlie])\n",
    "c_shared = c.share([alice, bob])\n",
    "\n",
    "res_shared = a_shared - b_shared - c_shared\n",
    "res = res_shared.reconstruct(alice)\n",
    "\n",
    "assert res.value == 1120"
   ]
  },
  {
   "cell_type": "code",
   "execution_count": 10,
   "metadata": {},
   "outputs": [],
   "source": [
    "# Subtraction of SharedScalar and a public integer\n",
    "\n",
    "alice = VirtualMachine('alice')\n",
    "bob = VirtualMachine('bob')\n",
    "charlie = VirtualMachine('charlie')\n",
    "\n",
    "a = PrivateScalar(1200, alice)\n",
    "a_shared = a.share([bob, charlie])\n",
    "\n",
    "res_shared = 2400 - a_shared - (-100)\n",
    "res = res_shared.reconstruct(alice)\n",
    "\n",
    "assert res.value == 1300"
   ]
  },
  {
   "cell_type": "code",
   "execution_count": 11,
   "metadata": {},
   "outputs": [],
   "source": [
    "# Subtraction of SharedScalars in a small prime ring\n",
    "\n",
    "alice = VirtualMachine('alice')\n",
    "bob = VirtualMachine('bob')\n",
    "charlie = VirtualMachine('charlie')\n",
    "\n",
    "a = PrivateScalar(12, alice)\n",
    "b = PrivateScalar(10, bob)\n",
    "\n",
    "a_shared = a.share([bob, charlie], Q=67)\n",
    "b_shared = b.share([alice, charlie], Q=67)\n",
    "\n",
    "res_shared = a_shared - b_shared\n",
    "res = res_shared.reconstruct(alice)\n",
    "\n",
    "assert res.value == 2"
   ]
  },
  {
   "cell_type": "code",
   "execution_count": 12,
   "metadata": {},
   "outputs": [],
   "source": [
    "# Subtraction of SharedScalar and a public integer in a small prime ring\n",
    "\n",
    "alice = VirtualMachine('alice')\n",
    "bob = VirtualMachine('bob')\n",
    "charlie = VirtualMachine('charlie')\n",
    "\n",
    "a = PrivateScalar(10, alice)\n",
    "a_shared = a.share([bob, charlie], Q=67)\n",
    "\n",
    "res_shared = 12 - a_shared - (-4)\n",
    "res = res_shared.reconstruct(alice)\n",
    "\n",
    "assert res.value == 6"
   ]
  },
  {
   "cell_type": "markdown",
   "metadata": {},
   "source": [
    "## Test Multiplication"
   ]
  },
  {
   "cell_type": "code",
   "execution_count": 13,
   "metadata": {},
   "outputs": [],
   "source": [
    "# Multiplication of SharedScalars\n",
    "\n",
    "alice = VirtualMachine('alice')\n",
    "bob = VirtualMachine('bob')\n",
    "charlie = VirtualMachine('charlie')\n",
    "\n",
    "a = PrivateScalar(120, alice)\n",
    "b = PrivateScalar(130, bob)\n",
    "c = PrivateScalar(-2, charlie)\n",
    "\n",
    "a_shared = a.share([bob, charlie])\n",
    "b_shared = b.share([alice, charlie])\n",
    "c_shared = c.share([alice, bob])\n",
    "\n",
    "res_shared = a_shared * b_shared * c_shared\n",
    "res = res_shared.reconstruct(alice)\n",
    "\n",
    "assert res.value == -31200"
   ]
  },
  {
   "cell_type": "code",
   "execution_count": 14,
   "metadata": {},
   "outputs": [],
   "source": [
    "# Multiplication of SharedScalar and a public integer\n",
    "\n",
    "alice = VirtualMachine('alice')\n",
    "bob = VirtualMachine('bob')\n",
    "charlie = VirtualMachine('charlie')\n",
    "\n",
    "a = PrivateScalar(120, alice)\n",
    "a_shared = a.share([bob, charlie])\n",
    "\n",
    "res_shared = 130 * a_shared * (-2)\n",
    "res = res_shared.reconstruct(alice)\n",
    "\n",
    "assert res.value == -31200"
   ]
  },
  {
   "cell_type": "code",
   "execution_count": 15,
   "metadata": {},
   "outputs": [],
   "source": [
    "# Multiplication of SharedScalars in a small prime ring\n",
    "\n",
    "alice = VirtualMachine('alice')\n",
    "bob = VirtualMachine('bob')\n",
    "charlie = VirtualMachine('charlie')\n",
    "\n",
    "a = PrivateScalar(5, alice)\n",
    "b = PrivateScalar(4, bob)\n",
    "\n",
    "a_shared = a.share([bob, charlie], Q=67)\n",
    "b_shared = b.share([alice, charlie], Q=67)\n",
    "\n",
    "res_shared = a_shared * b_shared\n",
    "res = res_shared.reconstruct(alice)\n",
    "\n",
    "assert res.value == 20"
   ]
  },
  {
   "cell_type": "code",
   "execution_count": 16,
   "metadata": {},
   "outputs": [],
   "source": [
    "# Multiplication of SharedScalar and a public integer in a small prime ring\n",
    "\n",
    "alice = VirtualMachine('alice')\n",
    "bob = VirtualMachine('bob')\n",
    "charlie = VirtualMachine('charlie')\n",
    "\n",
    "a = PrivateScalar(5, alice)\n",
    "a_shared = a.share([bob, charlie], Q=67)\n",
    "\n",
    "res_shared = 4 * a_shared * (-1)  # This product (-20) is not representable in a prime field, and will be modulo'ed to 54 (== -20 % 67)\n",
    "res = res_shared.reconstruct(alice)\n",
    "\n",
    "assert res.value == 47"
   ]
  }
 ],
 "metadata": {
  "kernelspec": {
   "display_name": "Python 3",
   "language": "python",
   "name": "python3"
  },
  "language_info": {
   "codemirror_mode": {
    "name": "ipython",
    "version": 3
   },
   "file_extension": ".py",
   "mimetype": "text/x-python",
   "name": "python",
   "nbconvert_exporter": "python",
   "pygments_lexer": "ipython3",
   "version": "3.7.6"
  }
 },
 "nbformat": 4,
 "nbformat_minor": 4
}
