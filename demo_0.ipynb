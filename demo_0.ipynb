{
 "cells": [
  {
   "cell_type": "code",
   "execution_count": 22,
   "metadata": {},
   "outputs": [],
   "source": [
    "from tinysmpc import VirtualMachine, PrivateScalar, SharedScalar"
   ]
  },
  {
   "attachments": {},
   "cell_type": "markdown",
   "metadata": {},
   "source": [
    "# Private 2 Party State Machine\n",
    "\n",
    "This notebook demonstrates how a state machine can be privately evaluated using two non-colluding servers. For this protocol \"privacy\" is defined as:\n",
    "- The **servers** do not learn the **input** of the client\n",
    "- The **servers and client** do not know the **current state** of the machine (apart from the initial state)\n",
    "\n",
    "## General Protocol Overview\n",
    "\n",
    "<!-- TODO: add image here -->\n",
    "\n",
    "One time operation:\n",
    "1. Regex is converted into a state machine\n",
    "2. State machine is converted into polynomial representation over a finite field (or ring)\n",
    "3. Create arithmetic circuit for polynomial representation and share with servers\n",
    "\n",
    "Each time the client wants to evaluate the state machine:\n",
    "1. Client inputs a token (e.g. a character)\n",
    "2. The token is additively secret shared with servers ($token_0$ shared with $server_0$ and $token_1$ shared with $server_1$, where $token_0 + token_1 = input$)\n",
    "3. Servers evaluate the arithmetic circuit using their own individual input share as well as their share of the current state\n",
    "4. If more input go to step 1"
   ]
  },
  {
   "attachments": {},
   "cell_type": "markdown",
   "metadata": {},
   "source": [
    "## 1. Regex to State Machine\n",
    "\n",
    "For this demo we will be basing our state machine off the regex expression \"ab\". This machine will only accept the string \"ab\" and nothing else. The state machine can be visualized as follows:\n",
    "\n",
    "![transition graph of state machine for regex \"ab\"](./images/ab_transition_graph.png)\n",
    "<!-- Generated using https://ivanzuzak.info/noam/webapps/fsm_simulator/ -->\n",
    "\n",
    "### State Table for \"ab\"\n",
    "\n",
    "|             | **INPUT 'a'** | **INPUT 'b'** |\n",
    "| ----------- | ------------- | ------------- |\n",
    "| **STATE 0** | STATE 2       | STATE 3       |\n",
    "| **STATE 1** | STATE 3       | STATE 3       |\n",
    "| **STATE 2** | STATE 3       | STATE 1       |\n",
    "| **STATE 3** | STATE 3       | STATE 3       |\n",
    "\n",
    "## 2. State Machine to Polynomial Representation\n",
    "\n",
    "To make interpolation simpler we can the state transition table as a bunch of 3D points.\n",
    "\n",
    "```python\n",
    "# (STATE, INPUT ('a'=0 and 'b'=1), NEXT STATE)\n",
    "(0, 0, 2)\n",
    "(1, 0, 3)\n",
    "(2, 0, 3)\n",
    "(3, 0, 3)\n",
    "(0, 1, 3)\n",
    "(1, 1, 3)\n",
    "(2, 1, 1)\n",
    "(3, 1, 3)\n",
    "```\n",
    "\n",
    "We can now use bilinear interpolation to construct this equation:\n",
    "\n",
    "$$f(x, y) = 2 + 1y + 10922x + 54602xy + 65520x^2 + 65518x^2y + 54601x^3 + 10921x^3y$$\n",
    "\n",
    "You have to trust me, but this equation is the polynomial representation of the state machine above over a Galois ring where $p = 65521$. "
   ]
  },
  {
   "cell_type": "code",
   "execution_count": 23,
   "metadata": {},
   "outputs": [
    {
     "name": "stdout",
     "output_type": "stream",
     "text": [
      "7\n",
      "121\n",
      "489\n"
     ]
    }
   ],
   "source": [
    "def f(x, y):\n",
    "    return 3 * x * y + x + y + 4\n",
    "\n",
    "ns = 0\n",
    "\n",
    "token = 3\n",
    "ns = f(token, ns)\n",
    "print(ns)\n",
    "\n",
    "token = 5\n",
    "ns = f(token, ns)\n",
    "print(ns)\n",
    "\n",
    "token = 1\n",
    "ns = f(token, ns)\n",
    "print(ns)"
   ]
  },
  {
   "cell_type": "code",
   "execution_count": 24,
   "metadata": {},
   "outputs": [
    {
     "name": "stdout",
     "output_type": "stream",
     "text": [
      "PrivateScalar(7, 'alice')\n",
      "PrivateScalar(121, 'alice')\n",
      "PrivateScalar(489, 'alice')\n"
     ]
    }
   ],
   "source": [
    "alice = VirtualMachine('alice')\n",
    "bob = VirtualMachine('bob')\n",
    "charlie = VirtualMachine('charlie')\n",
    "\n",
    "ns_a = PrivateScalar(0, alice)\n",
    "ns_b = PrivateScalar(0, bob)\n",
    "\n",
    "shared_ns = ns_a.share([alice, bob])\n",
    "\n",
    "token = PrivateScalar(3, charlie)\n",
    "shared_token = token.share([alice, bob])\n",
    "shared_ns = f(shared_token, shared_ns)\n",
    "print(shared_ns.reconstruct(alice))\n",
    "\n",
    "token = PrivateScalar(5, charlie)\n",
    "shared_token = token.share([alice, bob])\n",
    "shared_ns = f(shared_token, shared_ns)\n",
    "print(shared_ns.reconstruct(alice))\n",
    "\n",
    "token = PrivateScalar(1, charlie)\n",
    "shared_token = token.share([alice, bob])\n",
    "shared_ns = f(shared_token, shared_ns)\n",
    "print(shared_ns.reconstruct(alice))"
   ]
  },
  {
   "cell_type": "code",
   "execution_count": 25,
   "metadata": {},
   "outputs": [],
   "source": [
    "PRIME = 65521\n",
    "\n",
    "# (STATE, INPUT) -> NEXT STATE)\n",
    "def tf(s, t):\n",
    "    \"\"\"Transition function for the regex example 'ab' over a Galois ring where p = 65521\n",
    "    \n",
    "    Args:\n",
    "        s : The current state\n",
    "        t : The input token\n",
    "    \"\"\"\n",
    "\n",
    "    return 2 + 1*t + 10922*s + 54602*s*t + 65520*(s**2) + 65518*(s**2)*t + 54601*(s**3) + 10921*(s**3)*t\n",
    "\n",
    "alice = VirtualMachine('alice')     # server 0\n",
    "bob = VirtualMachine('bob')         # server 1\n",
    "charlie = VirtualMachine('charlie') # client\n",
    "\n",
    "state = PrivateScalar(0, alice)                 # initial state\n",
    "shared_state = state.share([alice, bob], PRIME) # initial state shared with servers ()\n",
    "\n",
    "token = PrivateScalar(1, charlie)               # client inputs new token\n",
    "shared_token = token.share([alice, bob], PRIME) # client shares token with servers\n",
    "shared_state = tf(shared_state, shared_token)   # servers compute new state using shares of current state and token\n",
    "\n"
   ]
  },
  {
   "cell_type": "code",
   "execution_count": 26,
   "metadata": {},
   "outputs": [],
   "source": [
    "\n",
    "# token = PrivateScalar(1, charlie)\n",
    "# shared_token = token.share([alice, bob], PRIME)\n",
    "# shared_state = tf(shared_state, shared_token)\n",
    "\n",
    "# token = PrivateScalar(1, charlie)\n",
    "# shared_token = token.share([alice, bob], PRIME)\n",
    "# shared_state = tf(shared_state, shared_token)\n",
    "# print(shared_state.reconstruct(alice))"
   ]
  }
 ],
 "metadata": {
  "kernelspec": {
   "display_name": "Python 3",
   "language": "python",
   "name": "python3"
  },
  "language_info": {
   "codemirror_mode": {
    "name": "ipython",
    "version": 3
   },
   "file_extension": ".py",
   "mimetype": "text/x-python",
   "name": "python",
   "nbconvert_exporter": "python",
   "pygments_lexer": "ipython3",
   "version": "3.10.4"
  },
  "orig_nbformat": 4,
  "vscode": {
   "interpreter": {
    "hash": "2ab98c4b59af728aa8bd9922870b996a7fc5861c87b81242319b92eec59b5fef"
   }
  }
 },
 "nbformat": 4,
 "nbformat_minor": 2
}
