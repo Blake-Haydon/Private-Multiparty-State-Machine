{
 "cells": [
  {
   "cell_type": "markdown",
   "metadata": {},
   "source": [
    "Implements PrivateCompare (algorithm 3) in https://eprint.iacr.org/2018/442.pdf."
   ]
  },
  {
   "cell_type": "code",
   "execution_count": 1,
   "metadata": {},
   "outputs": [
    {
     "ename": "ImportError",
     "evalue": "cannot import name 'Share' from 'tinysmpc' (/Users/kennysong/GDrive/Projects/tinysmpc/tinysmpc/__init__.py)",
     "output_type": "error",
     "traceback": [
      "\u001b[0;31m---------------------------------------------------------------------------\u001b[0m",
      "\u001b[0;31mImportError\u001b[0m                               Traceback (most recent call last)",
      "\u001b[0;32m<ipython-input-1-810561e91258>\u001b[0m in \u001b[0;36m<module>\u001b[0;34m\u001b[0m\n\u001b[0;32m----> 1\u001b[0;31m \u001b[0;32mfrom\u001b[0m \u001b[0mtinysmpc\u001b[0m \u001b[0;32mimport\u001b[0m \u001b[0mVirtualMachine\u001b[0m\u001b[0;34m,\u001b[0m \u001b[0mPrivateScalar\u001b[0m\u001b[0;34m,\u001b[0m \u001b[0mSharedScalar\u001b[0m\u001b[0;34m,\u001b[0m \u001b[0mShare\u001b[0m\u001b[0;34m\u001b[0m\u001b[0;34m\u001b[0m\u001b[0m\n\u001b[0m\u001b[1;32m      2\u001b[0m \u001b[0;32mfrom\u001b[0m \u001b[0mrandom\u001b[0m \u001b[0;32mimport\u001b[0m \u001b[0mrandom\u001b[0m\u001b[0;34m,\u001b[0m \u001b[0mrandint\u001b[0m\u001b[0;34m,\u001b[0m \u001b[0mshuffle\u001b[0m\u001b[0;34m\u001b[0m\u001b[0;34m\u001b[0m\u001b[0m\n",
      "\u001b[0;31mImportError\u001b[0m: cannot import name 'Share' from 'tinysmpc' (/Users/kennysong/GDrive/Projects/tinysmpc/tinysmpc/__init__.py)"
     ]
    }
   ],
   "source": [
    "from tinysmpc import VirtualMachine, PrivateScalar, SharedScalar, Share\n",
    "from random import random, randint, shuffle"
   ]
  },
  {
   "cell_type": "code",
   "execution_count": null,
   "metadata": {},
   "outputs": [],
   "source": [
    "p = 67  # Smaller prime field size to encode bit values\n",
    "l = 64  # Number of bits of the integers we're using\n",
    "\n",
    "# TODO: make this work for negative integers?\n",
    "\n",
    "def get_bits(n, l=64):\n",
    "    '''Returns the (reverse) binary representation of n as an l-sized list.'''\n",
    "    bin_str = bin(n).replace('0b', '')\n",
    "    if len(bin_str) < l:\n",
    "        bin_str = '0' * (l - len(bin_str)) + bin_str\n",
    "    return list(map(int, reversed(bin_str)))  # This only works if the bits are reversed, but I don't know why!\n",
    "\n",
    "def get_bits_ps(n, l=64):\n",
    "    '''Returns the (reverse) binary representation of PrivateScalar n as an l-sized list.'''\n",
    "    bin_list = get_bits(n.value)\n",
    "    return [PrivateScalar(b, n.owner) for b in bin_list]\n",
    "\n",
    "def randlist(l=64, p=67):\n",
    "    '''Returns a list of l random integers in [1, p-1].'''\n",
    "    return [randint(1, p-1) for _ in range(l)]\n",
    "\n",
    "def fixed_shuffle():\n",
    "    '''Returns a deterministic shuffle function that always permutes a list in the same way.'''\n",
    "    seed = random()\n",
    "    def _fixed_shuffle(x): shuffle(x, lambda: seed)\n",
    "    return _fixed_shuffle"
   ]
  },
  {
   "cell_type": "code",
   "execution_count": null,
   "metadata": {},
   "outputs": [],
   "source": [
    "def shared_compare(x, r, alice, bob, β=None):\n",
    "    '''Allows Bob to compute x > r, where x is a PrivateScalar on Alice, and r is public.'''\n",
    "    # Decompose x into its bit representation, and share each bit independently\n",
    "    xb = get_bits_ps(x)\n",
    "    xb_sh = [b.share([bob], Q=p) for b in xb]\n",
    "    \n",
    "    # Decompose r into its bit representation, but keep it public\n",
    "    rb = get_bits(r)\n",
    "    \n",
    "    # Common randomness (public)\n",
    "    β = randint(0, 1) if β is None else β\n",
    "    s = randlist()\n",
    "    u = randlist()\n",
    "    π = fixed_shuffle()\n",
    "\n",
    "    # Line 1\n",
    "    t = (r + 1) % 2**l\n",
    "    tb = get_bits(t)\n",
    "    \n",
    "    # Line 2\n",
    "    w_c = {alice: {'w': [None] * l, 'c': [None] * l}, \n",
    "           bob:   {'w': [None] * l, 'c': [None] * l}}\n",
    "    for j, machine in enumerate([alice, bob]):  \n",
    "        w, c = w_c[machine]['w'], w_c[machine]['c']\n",
    "        \n",
    "        # Line 3\n",
    "        for i in range(l-1, -1, -1):\n",
    "            sh = xb_sh[i].share_of[machine]\n",
    "            \n",
    "            # Line 4\n",
    "            if β == 0:\n",
    "                w[i] = sh + j*rb[i] - 2*rb[i]*sh\n",
    "                c[i] = j*rb[i] - sh + j + sum(w[i+1:])\n",
    "\n",
    "            # Line 7\n",
    "            elif (β == 1) and (r != 2**l - 1):\n",
    "                w[i] = sh + j*tb[i] - 2*tb[i]*sh\n",
    "                c[i] = -1*j*tb[i] + sh + j + sum(w[i+1:])\n",
    "\n",
    "            # Line 10\n",
    "            else:  \n",
    "                if i != 1:  c_val = ((1 - j)*(u[i] + 1) - j*u[i]) % p\n",
    "                else: c_val = ((-1)**j * u[i]) % p\n",
    "                c[i] = Share(c_val, machine, Q=p)\n",
    "\n",
    "    # Line 14\n",
    "    d_alice = [s[i] * w_c[alice]['c'][i] for i in range(l)]\n",
    "    d_bob = [s[i] * w_c[bob]['c'][i] for i in range(l)]\n",
    "    π(d_alice); π(d_bob)\n",
    "    d_shared = [SharedScalar([d_a, d_b], Q=p) for d_a, d_b in zip(d_alice, d_bob)]\n",
    "    \n",
    "    # Line 15\n",
    "    d = [d_sh.reconstruct(bob) for d_sh in d_shared]\n",
    "    β_prime = any(ps.value == 0 for ps in d)  # Technically, ps == 0 should take place on Bob's machine and return a PrivateScalar\n",
    "    \n",
    "    # Return x > r\n",
    "    return PrivateScalar(β ^ β_prime, bob)"
   ]
  },
  {
   "cell_type": "code",
   "execution_count": null,
   "metadata": {},
   "outputs": [],
   "source": [
    "alice = VirtualMachine('alice')\n",
    "bob = VirtualMachine('bob')\n",
    "x = PrivateScalar(100, alice)\n",
    "r = 0\n",
    "\n",
    "assert shared_compare(x, r, alice, bob).value == 1"
   ]
  },
  {
   "cell_type": "code",
   "execution_count": null,
   "metadata": {},
   "outputs": [],
   "source": [
    "alice = VirtualMachine('alice')\n",
    "bob = VirtualMachine('bob')\n",
    "x = PrivateScalar(100, alice)\n",
    "r = 99\n",
    "\n",
    "assert shared_compare(x, r, alice, bob).value == 1"
   ]
  },
  {
   "cell_type": "code",
   "execution_count": null,
   "metadata": {},
   "outputs": [],
   "source": [
    "alice = VirtualMachine('alice')\n",
    "bob = VirtualMachine('bob')\n",
    "x = PrivateScalar(100, alice)\n",
    "r = 100\n",
    "\n",
    "assert shared_compare(x, r, alice, bob).value == 0"
   ]
  },
  {
   "cell_type": "code",
   "execution_count": null,
   "metadata": {},
   "outputs": [],
   "source": [
    "alice = VirtualMachine('alice')\n",
    "bob = VirtualMachine('bob')\n",
    "x = PrivateScalar(100, alice)\n",
    "r = 101\n",
    "\n",
    "assert shared_compare(x, r, alice, bob).value == 0"
   ]
  },
  {
   "cell_type": "code",
   "execution_count": null,
   "metadata": {},
   "outputs": [],
   "source": [
    "alice = VirtualMachine('alice')\n",
    "bob = VirtualMachine('bob')\n",
    "x = PrivateScalar(100, alice)\n",
    "r = 1001\n",
    "\n",
    "assert shared_compare(x, r, alice, bob).value == 0"
   ]
  },
  {
   "cell_type": "code",
   "execution_count": null,
   "metadata": {},
   "outputs": [],
   "source": [
    "alice = VirtualMachine('alice')\n",
    "bob = VirtualMachine('bob')\n",
    "x = PrivateScalar(1001, alice)\n",
    "r = 0\n",
    "\n",
    "assert shared_compare(x, r, alice, bob).value == 1"
   ]
  },
  {
   "cell_type": "code",
   "execution_count": null,
   "metadata": {},
   "outputs": [],
   "source": [
    "alice = VirtualMachine('alice')\n",
    "bob = VirtualMachine('bob')\n",
    "x = PrivateScalar(1001, alice)\n",
    "r = 1001\n",
    "\n",
    "assert shared_compare(x, r, alice, bob).value == 0"
   ]
  },
  {
   "cell_type": "code",
   "execution_count": null,
   "metadata": {},
   "outputs": [],
   "source": [
    "alice = VirtualMachine('alice')\n",
    "bob = VirtualMachine('bob')\n",
    "x = PrivateScalar(1001, alice)\n",
    "r = 999999\n",
    "\n",
    "assert shared_compare(x, r, alice, bob).value == 0"
   ]
  },
  {
   "cell_type": "code",
   "execution_count": null,
   "metadata": {},
   "outputs": [],
   "source": [
    "alice = VirtualMachine('alice')\n",
    "bob = VirtualMachine('bob')\n",
    "x = PrivateScalar(0, alice)\n",
    "r = 2**l - 1\n",
    "\n",
    "assert shared_compare(x, r, alice, bob).value == 0"
   ]
  },
  {
   "cell_type": "code",
   "execution_count": null,
   "metadata": {},
   "outputs": [],
   "source": [
    "alice = VirtualMachine('alice')\n",
    "bob = VirtualMachine('bob')\n",
    "x = PrivateScalar(2**l - 1, alice)\n",
    "r = 2**l - 1\n",
    "\n",
    "assert shared_compare(x, r, alice, bob).value == 0"
   ]
  }
 ],
 "metadata": {
  "kernelspec": {
   "display_name": "Python 3",
   "language": "python",
   "name": "python3"
  },
  "language_info": {
   "codemirror_mode": {
    "name": "ipython",
    "version": 3
   },
   "file_extension": ".py",
   "mimetype": "text/x-python",
   "name": "python",
   "nbconvert_exporter": "python",
   "pygments_lexer": "ipython3",
   "version": "3.7.6"
  }
 },
 "nbformat": 4,
 "nbformat_minor": 4
}
