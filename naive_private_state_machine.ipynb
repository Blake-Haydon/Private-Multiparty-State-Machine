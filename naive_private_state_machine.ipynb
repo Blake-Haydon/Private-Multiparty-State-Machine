{
 "cells": [
  {
   "cell_type": "code",
   "execution_count": 1,
   "metadata": {},
   "outputs": [],
   "source": [
    "from tinysmpc import VirtualMachine, PrivateScalar"
   ]
  },
  {
   "attachments": {},
   "cell_type": "markdown",
   "metadata": {},
   "source": [
    "# Private 2 Party State Machine\n",
    "\n",
    "This notebook demonstrates how a state machine can be privately evaluated using two non-colluding servers. For this protocol \"privacy\" is defined as:\n",
    "- The **servers** do not learn the **input** of the client\n",
    "- The **servers and client** do not know the **current state** of the machine (apart from the initial state)\n",
    "\n",
    "## General Protocol Overview\n",
    "\n",
    "### Preprocessing: Convert Regex to Arithmetic Circuit\n",
    "1. Regex is converted into a [DFA](https://en.wikipedia.org/wiki/Deterministic_finite_automaton) (state machine)\n",
    "2. DFA is converted into a polynomial equation over a finite field (or ring)\n",
    "3. Polynomial converted into arithmetic circuit\n",
    "4. Arithmetic circuit is given each server\n",
    "\n",
    "![Preprocessing](./images/preprocessing.png)\n",
    "*Arithmetic Circuit image By User:Derfel73; User:Tcshasaposse - User:Tcshasaposse, CC BY-SA 3.0, https://commons.wikimedia.org/w/index.php?curid=25138015*\n",
    "\n",
    "### Evaluation: Client Inputs Token\n",
    "1. Client inputs a token (e.g. a character)\n",
    "2. The token is additively secret shared with servers ($token_0$ shared with $server_0$ and $token_1$ shared with $server_1$, where $token_0 + token_1 = input$)\n",
    "3. Servers evaluate the arithmetic circuit using their own individual input share as well as their share of the current state\n",
    "4. If more input go to step 1 \n",
    "5. If evaluation is complete combine the results from the servers to get the final state\n",
    "\n",
    "![Evaluation Steps](./images/evaluation_steps.png)\n",
    "*Arithmetic Circuit image By User:Derfel73; User:Tcshasaposse - User:Tcshasaposse, CC BY-SA 3.0, https://commons.wikimedia.org/w/index.php?curid=25138015*"
   ]
  },
  {
   "attachments": {},
   "cell_type": "markdown",
   "metadata": {},
   "source": [
    "## **STEP 1:** Regex to State Machine\n",
    "\n",
    "For this demo we will be basing our state machine off the regex expression \"ab\". This machine will only accept the string \"ab\" and nothing else. The state machine can be visualized as follows:\n",
    "\n",
    "![transition graph of state machine for regex \"ab\"](./images/ab_transition_graph.png)\n",
    "<!-- Generated using https://ivanzuzak.info/noam/webapps/fsm_simulator/ -->\n",
    "\n",
    "### State Table for \"ab\"\n",
    "\n",
    "|             | **INPUT 'a'** | **INPUT 'b'** |\n",
    "| ----------- | ------------- | ------------- |\n",
    "| **STATE 0** | STATE 2       | STATE 3       |\n",
    "| **STATE 1** | STATE 3       | STATE 3       |\n",
    "| **STATE 2** | STATE 3       | STATE 1       |\n",
    "| **STATE 3** | STATE 3       | STATE 3       |\n",
    "\n",
    "## **STEP 2:** State Machine to Polynomial Representation\n",
    "\n",
    "To interpolate we can visualize the state transition table as a bunch of 3D points.\n",
    "\n",
    "| **STATE** | **INPUT ('a'=0 and 'b'=1)** | **NEXT STATE** |\n",
    "| --------- | --------------------------- | -------------- |\n",
    "| 0         | 0                           | 2              |\n",
    "| 1         | 0                           | 3              |\n",
    "| 2         | 0                           | 3              |\n",
    "| 3         | 0                           | 3              |\n",
    "| 0         | 1                           | 3              |\n",
    "| 1         | 1                           | 3              |\n",
    "| 2         | 1                           | 1              |\n",
    "| 3         | 1                           | 3              |\n",
    "\n",
    "We can now use bilinear interpolation to construct this equation:\n",
    "\n",
    "$$f(x, y) = 2 + 1y + 10922x + 54602xy + 65520x^2 + 65518x^2y + 54601x^3 + 10921x^3y$$\n",
    "\n",
    "This equation may look complicated but it is simply the state transition table represented as a polynomial function over a Galois ring where $p = 65521$. "
   ]
  },
  {
   "cell_type": "code",
   "execution_count": 2,
   "metadata": {},
   "outputs": [],
   "source": [
    "PRIME = 65521\n",
    "\n",
    "def tf(s: int, t: int):\n",
    "    \"\"\"\n",
    "    Transition function for the regex example 'ab' over a Galois ring where p = 65521.\n",
    "    \n",
    "    (STATE, INPUT) -> NEXT STATE\n",
    "\n",
    "    Args:\n",
    "        s : The current state\n",
    "        t : The input token\n",
    "    \"\"\"\n",
    "\n",
    "    return 2 + 1*t + 10922*s + 54602*s*t + 65520*(s**2) + 65518*(s**2)*t + 54601*(s**3) + 10921*(s**3)*t\n",
    "\n",
    "def token_to_int(token: str):\n",
    "    \"\"\"Converts a token to an integer so that it can be read by the state machine\n",
    "    \n",
    "    Args:\n",
    "        token : The token to convert\n",
    "    \"\"\"\n",
    "    if token == 'a':\n",
    "        return 0\n",
    "    elif token == 'b':\n",
    "        return 1\n",
    "    else:\n",
    "        raise ValueError('Invalid token')\n",
    "\n",
    "\n",
    "def eval_state_machine(token, shared_state, tf, PRIME, alice, bob, charlie):\n",
    "    \"\"\"Evaluates the state machine using the given transition function\n",
    "    \n",
    "    Args:\n",
    "        token(str) : The token to evaluate\n",
    "        shared_state : The current shared state of the state machine\n",
    "        tf : The transition function\n",
    "        PRIME : The prime used for the Galois ring\n",
    "        alice : Server 0\n",
    "        bob : Server 1\n",
    "        charlie : The client sending the token\n",
    "    \"\"\"\n",
    "    token_int = token_to_int(token)\n",
    "    token = PrivateScalar(token_int, charlie)       # client inputs new token\n",
    "    shared_token = token.share([alice, bob], PRIME) # client shares token with servers\n",
    "    return tf(shared_state, shared_token)           # servers compute new state using shares of current state and token"
   ]
  },
  {
   "cell_type": "code",
   "execution_count": 3,
   "metadata": {},
   "outputs": [
    {
     "name": "stdout",
     "output_type": "stream",
     "text": [
      "values [37358]\n",
      "values [41025]\n",
      "self.value - mul 41025\n",
      "other_value - mul 1\n",
      "self.value - mul 24496\n",
      "other_value - mul 1\n",
      "self.value 41025\n",
      "other_value 2\n",
      "self.value - mul 37358\n",
      "other_value - mul 10922\n",
      "self.value - mul 28163\n",
      "other_value - mul 10922\n",
      "self.value 24496\n",
      "other_value 40712\n",
      "self.value 41027\n",
      "other_value 24809\n",
      "self.value - mul 37358\n",
      "other_value - mul 54602\n",
      "self.value - mul 28163\n",
      "other_value - mul 54602\n",
      "25485\n",
      "values [40502]\n",
      "values [51589]\n",
      "values [35580]\n",
      "self.value - mul 40502\n",
      "other_value - mul -1\n",
      "self.value - mul 34794\n",
      "other_value - mul -1\n",
      "self.value 43777\n",
      "other_value 25019\n",
      "self.value 21744\n",
      "other_value 30727\n",
      "self.value - mul 51589\n",
      "other_value - mul -1\n",
      "self.value - mul 45874\n",
      "other_value - mul -1\n",
      "self.value 24496\n",
      "other_value 13932\n",
      "self.value 41025\n",
      "other_value 19647\n",
      "self.value 3275\n",
      "other_value 0\n",
      "self.value 3275\n",
      "other_value 52471\n",
      "self.value 38428\n",
      "other_value 0\n",
      "self.value 38428\n",
      "other_value 60672\n",
      "self.value - mul 51589\n",
      "other_value - mul 55746\n",
      "self.value - mul 45874\n",
      "other_value - mul 55746\n",
      "self.value 35580\n",
      "other_value 32662\n",
      "self.value 55426\n",
      "other_value 7374\n",
      "self.value - mul 40502\n",
      "other_value - mul 33579\n",
      "self.value - mul 34794\n",
      "other_value - mul 33579\n",
      "self.value 2721\n",
      "other_value 62782\n",
      "self.value 62800\n",
      "other_value 42775\n",
      "self.value 65503\n",
      "other_value 1871894934\n"
     ]
    },
    {
     "ename": "ValueError",
     "evalue": "GF(65521) scalars must be in `0 <= x < 65521`, not 1871894934.",
     "output_type": "error",
     "traceback": [
      "\u001b[0;31m---------------------------------------------------------------------------\u001b[0m",
      "\u001b[0;31mValueError\u001b[0m                                Traceback (most recent call last)",
      "\u001b[1;32m/Users/blake/Documents/Sync/School/School_2022/research_project/Private-Multiparty-State-Machine/naive_private_state_machine.ipynb Cell 5\u001b[0m in \u001b[0;36m<cell line: 8>\u001b[0;34m()\u001b[0m\n\u001b[1;32m      <a href='vscode-notebook-cell:/Users/blake/Documents/Sync/School/School_2022/research_project/Private-Multiparty-State-Machine/naive_private_state_machine.ipynb#W4sZmlsZQ%3D%3D?line=4'>5</a>\u001b[0m shared_state \u001b[39m=\u001b[39m PrivateScalar(\u001b[39m0\u001b[39m, alice)\u001b[39m.\u001b[39mshare([alice, bob], PRIME) \u001b[39m# initial state\u001b[39;00m\n\u001b[1;32m      <a href='vscode-notebook-cell:/Users/blake/Documents/Sync/School/School_2022/research_project/Private-Multiparty-State-Machine/naive_private_state_machine.ipynb#W4sZmlsZQ%3D%3D?line=6'>7</a>\u001b[0m \u001b[39m# Evaluate the state machine on the input 'aaa'\u001b[39;00m\n\u001b[0;32m----> <a href='vscode-notebook-cell:/Users/blake/Documents/Sync/School/School_2022/research_project/Private-Multiparty-State-Machine/naive_private_state_machine.ipynb#W4sZmlsZQ%3D%3D?line=7'>8</a>\u001b[0m shared_state \u001b[39m=\u001b[39m eval_state_machine(\u001b[39m'\u001b[39;49m\u001b[39ma\u001b[39;49m\u001b[39m'\u001b[39;49m, shared_state, tf, PRIME, alice, bob, charlie)\n\u001b[1;32m      <a href='vscode-notebook-cell:/Users/blake/Documents/Sync/School/School_2022/research_project/Private-Multiparty-State-Machine/naive_private_state_machine.ipynb#W4sZmlsZQ%3D%3D?line=8'>9</a>\u001b[0m shared_state \u001b[39m=\u001b[39m eval_state_machine(\u001b[39m'\u001b[39m\u001b[39ma\u001b[39m\u001b[39m'\u001b[39m, shared_state, tf, PRIME, alice, bob, charlie)\n\u001b[1;32m     <a href='vscode-notebook-cell:/Users/blake/Documents/Sync/School/School_2022/research_project/Private-Multiparty-State-Machine/naive_private_state_machine.ipynb#W4sZmlsZQ%3D%3D?line=9'>10</a>\u001b[0m shared_state \u001b[39m=\u001b[39m eval_state_machine(\u001b[39m'\u001b[39m\u001b[39ma\u001b[39m\u001b[39m'\u001b[39m, shared_state, tf, PRIME, alice, bob, charlie)\n",
      "\u001b[1;32m/Users/blake/Documents/Sync/School/School_2022/research_project/Private-Multiparty-State-Machine/naive_private_state_machine.ipynb Cell 5\u001b[0m in \u001b[0;36meval_state_machine\u001b[0;34m(token, shared_state, tf, PRIME, alice, bob, charlie)\u001b[0m\n\u001b[1;32m     <a href='vscode-notebook-cell:/Users/blake/Documents/Sync/School/School_2022/research_project/Private-Multiparty-State-Machine/naive_private_state_machine.ipynb#W4sZmlsZQ%3D%3D?line=42'>43</a>\u001b[0m token \u001b[39m=\u001b[39m PrivateScalar(token_int, charlie)       \u001b[39m# client inputs new token\u001b[39;00m\n\u001b[1;32m     <a href='vscode-notebook-cell:/Users/blake/Documents/Sync/School/School_2022/research_project/Private-Multiparty-State-Machine/naive_private_state_machine.ipynb#W4sZmlsZQ%3D%3D?line=43'>44</a>\u001b[0m shared_token \u001b[39m=\u001b[39m token\u001b[39m.\u001b[39mshare([alice, bob], PRIME) \u001b[39m# client shares token with servers\u001b[39;00m\n\u001b[0;32m---> <a href='vscode-notebook-cell:/Users/blake/Documents/Sync/School/School_2022/research_project/Private-Multiparty-State-Machine/naive_private_state_machine.ipynb#W4sZmlsZQ%3D%3D?line=44'>45</a>\u001b[0m \u001b[39mreturn\u001b[39;00m tf(shared_state, shared_token)\n",
      "\u001b[1;32m/Users/blake/Documents/Sync/School/School_2022/research_project/Private-Multiparty-State-Machine/naive_private_state_machine.ipynb Cell 5\u001b[0m in \u001b[0;36mtf\u001b[0;34m(s, t)\u001b[0m\n\u001b[1;32m      <a href='vscode-notebook-cell:/Users/blake/Documents/Sync/School/School_2022/research_project/Private-Multiparty-State-Machine/naive_private_state_machine.ipynb#W4sZmlsZQ%3D%3D?line=2'>3</a>\u001b[0m \u001b[39mdef\u001b[39;00m \u001b[39mtf\u001b[39m(s: \u001b[39mint\u001b[39m, t: \u001b[39mint\u001b[39m):\n\u001b[1;32m      <a href='vscode-notebook-cell:/Users/blake/Documents/Sync/School/School_2022/research_project/Private-Multiparty-State-Machine/naive_private_state_machine.ipynb#W4sZmlsZQ%3D%3D?line=3'>4</a>\u001b[0m \u001b[39m    \u001b[39m\u001b[39m\"\"\"\u001b[39;00m\n\u001b[1;32m      <a href='vscode-notebook-cell:/Users/blake/Documents/Sync/School/School_2022/research_project/Private-Multiparty-State-Machine/naive_private_state_machine.ipynb#W4sZmlsZQ%3D%3D?line=4'>5</a>\u001b[0m \u001b[39m    Transition function for the regex example 'ab' over a Galois ring where p = 65521.\u001b[39;00m\n\u001b[1;32m      <a href='vscode-notebook-cell:/Users/blake/Documents/Sync/School/School_2022/research_project/Private-Multiparty-State-Machine/naive_private_state_machine.ipynb#W4sZmlsZQ%3D%3D?line=5'>6</a>\u001b[0m \u001b[39m    \u001b[39;00m\n\u001b[0;32m   (...)\u001b[0m\n\u001b[1;32m     <a href='vscode-notebook-cell:/Users/blake/Documents/Sync/School/School_2022/research_project/Private-Multiparty-State-Machine/naive_private_state_machine.ipynb#W4sZmlsZQ%3D%3D?line=10'>11</a>\u001b[0m \u001b[39m        t : The input token\u001b[39;00m\n\u001b[1;32m     <a href='vscode-notebook-cell:/Users/blake/Documents/Sync/School/School_2022/research_project/Private-Multiparty-State-Machine/naive_private_state_machine.ipynb#W4sZmlsZQ%3D%3D?line=11'>12</a>\u001b[0m \u001b[39m    \"\"\"\u001b[39;00m\n\u001b[0;32m---> <a href='vscode-notebook-cell:/Users/blake/Documents/Sync/School/School_2022/research_project/Private-Multiparty-State-Machine/naive_private_state_machine.ipynb#W4sZmlsZQ%3D%3D?line=13'>14</a>\u001b[0m     \u001b[39mreturn\u001b[39;00m \u001b[39m2\u001b[39m \u001b[39m+\u001b[39m \u001b[39m1\u001b[39m\u001b[39m*\u001b[39mt \u001b[39m+\u001b[39m \u001b[39m10922\u001b[39m\u001b[39m*\u001b[39ms \u001b[39m+\u001b[39m \u001b[39m54602\u001b[39;49m\u001b[39m*\u001b[39;49ms\u001b[39m*\u001b[39;49mt \u001b[39m+\u001b[39m \u001b[39m65520\u001b[39m\u001b[39m*\u001b[39m(s\u001b[39m*\u001b[39m\u001b[39m*\u001b[39m\u001b[39m2\u001b[39m) \u001b[39m+\u001b[39m \u001b[39m65518\u001b[39m\u001b[39m*\u001b[39m(s\u001b[39m*\u001b[39m\u001b[39m*\u001b[39m\u001b[39m2\u001b[39m)\u001b[39m*\u001b[39mt \u001b[39m+\u001b[39m \u001b[39m54601\u001b[39m\u001b[39m*\u001b[39m(s\u001b[39m*\u001b[39m\u001b[39m*\u001b[39m\u001b[39m3\u001b[39m) \u001b[39m+\u001b[39m \u001b[39m10921\u001b[39m\u001b[39m*\u001b[39m(s\u001b[39m*\u001b[39m\u001b[39m*\u001b[39m\u001b[39m3\u001b[39m)\u001b[39m*\u001b[39mt\n",
      "File \u001b[0;32m~/Documents/Sync/School/School_2022/research_project/Private-Multiparty-State-Machine/tinysmpc/tinysmpc.py:84\u001b[0m, in \u001b[0;36mSharedScalar.__mul__\u001b[0;34m(self, other)\u001b[0m\n\u001b[1;32m     82\u001b[0m     \u001b[39mreturn\u001b[39;00m mult_sh_pub(\u001b[39mself\u001b[39m, other)\n\u001b[1;32m     83\u001b[0m \u001b[39melif\u001b[39;00m \u001b[39misinstance\u001b[39m(other, SharedScalar):\n\u001b[0;32m---> 84\u001b[0m     \u001b[39mreturn\u001b[39;00m mult_2sh(\u001b[39mself\u001b[39;49m, other)\n",
      "File \u001b[0;32m~/Documents/Sync/School/School_2022/research_project/Private-Multiparty-State-Machine/tinysmpc/shared_multiplication.py:50\u001b[0m, in \u001b[0;36mmult_2sh\u001b[0;34m(sh1, sh2)\u001b[0m\n\u001b[1;32m     46\u001b[0m sh2_m_b \u001b[39m=\u001b[39m shared_sh2_m_b\u001b[39m.\u001b[39mreconstruct(rand_machine)\u001b[39m.\u001b[39mvalue\n\u001b[1;32m     48\u001b[0m \u001b[39m# Magic! Compute each machine's share of the product\u001b[39;00m\n\u001b[1;32m     49\u001b[0m shared_prod \u001b[39m=\u001b[39m (\n\u001b[0;32m---> 50\u001b[0m     shared_c \u001b[39m+\u001b[39;49m (sh1_m_a \u001b[39m*\u001b[39;49m shared_b) \u001b[39m+\u001b[39;49m (sh2_m_b \u001b[39m*\u001b[39;49m shared_a) \u001b[39m+\u001b[39;49m (sh1_m_a \u001b[39m*\u001b[39;49m sh2_m_b)\n\u001b[1;32m     51\u001b[0m )\n\u001b[1;32m     52\u001b[0m \u001b[39mreturn\u001b[39;00m shared_prod\n",
      "File \u001b[0;32m~/Documents/Sync/School/School_2022/research_project/Private-Multiparty-State-Machine/tinysmpc/tinysmpc.py:63\u001b[0m, in \u001b[0;36mSharedScalar.__add__\u001b[0;34m(self, other)\u001b[0m\n\u001b[1;32m     61\u001b[0m \u001b[39m\u001b[39m\u001b[39m\"\"\"Called by: self + other.\"\"\"\u001b[39;00m\n\u001b[1;32m     62\u001b[0m \u001b[39mif\u001b[39;00m \u001b[39misinstance\u001b[39m(other, \u001b[39mint\u001b[39m):\n\u001b[0;32m---> 63\u001b[0m     \u001b[39mreturn\u001b[39;00m add_sh_pub(\u001b[39mself\u001b[39;49m, other)\n\u001b[1;32m     64\u001b[0m \u001b[39melif\u001b[39;00m \u001b[39misinstance\u001b[39m(other, SharedScalar):\n\u001b[1;32m     65\u001b[0m     \u001b[39mreturn\u001b[39;00m add_2sh(\u001b[39mself\u001b[39m, other)\n",
      "File \u001b[0;32m~/Documents/Sync/School/School_2022/research_project/Private-Multiparty-State-Machine/tinysmpc/shared_addition.py:31\u001b[0m, in \u001b[0;36madd_sh_pub\u001b[0;34m(sh, pub)\u001b[0m\n\u001b[1;32m     29\u001b[0m \u001b[39m\u001b[39m\u001b[39m\"\"\"Implements addition on a SharedScalar and a public integer.\"\"\"\u001b[39;00m\n\u001b[1;32m     30\u001b[0m \u001b[39m# To do the addition, we add the integer to one (random) share only\u001b[39;00m\n\u001b[0;32m---> 31\u001b[0m new_shares \u001b[39m=\u001b[39m [sh\u001b[39m.\u001b[39;49mshares[\u001b[39m0\u001b[39;49m] \u001b[39m+\u001b[39;49m pub] \u001b[39m+\u001b[39m sh\u001b[39m.\u001b[39mshares[\u001b[39m1\u001b[39m:]\n\u001b[1;32m     32\u001b[0m \u001b[39mreturn\u001b[39;00m \u001b[39mtype\u001b[39m(sh)(new_shares, sh\u001b[39m.\u001b[39mQ)\n",
      "File \u001b[0;32m~/Documents/Sync/School/School_2022/research_project/Private-Multiparty-State-Machine/tinysmpc/secret_sharing.py:42\u001b[0m, in \u001b[0;36mShare.__add__\u001b[0;34m(self, other)\u001b[0m\n\u001b[1;32m     40\u001b[0m \u001b[39mprint\u001b[39m(\u001b[39m\"\u001b[39m\u001b[39mself.value\u001b[39m\u001b[39m\"\u001b[39m, \u001b[39mself\u001b[39m\u001b[39m.\u001b[39mvalue)\n\u001b[1;32m     41\u001b[0m \u001b[39mprint\u001b[39m(\u001b[39m\"\u001b[39m\u001b[39mother_value\u001b[39m\u001b[39m\"\u001b[39m, other_value)\n\u001b[0;32m---> 42\u001b[0m sum_value \u001b[39m=\u001b[39m \u001b[39mint\u001b[39m(\u001b[39mself\u001b[39m\u001b[39m.\u001b[39mGF(\u001b[39mself\u001b[39m\u001b[39m.\u001b[39mvalue) \u001b[39m+\u001b[39m \u001b[39mself\u001b[39;49m\u001b[39m.\u001b[39;49mGF(other_value))\n\u001b[1;32m     43\u001b[0m \u001b[39mreturn\u001b[39;00m Share(sum_value, \u001b[39mself\u001b[39m\u001b[39m.\u001b[39mowner, \u001b[39mself\u001b[39m\u001b[39m.\u001b[39mQ)\n",
      "File \u001b[0;32m~/.asdf/installs/python/3.10.4/lib/python3.10/site-packages/galois/_fields/_array.py:67\u001b[0m, in \u001b[0;36mFieldArray.__new__\u001b[0;34m(cls, x, dtype, copy, order, ndmin)\u001b[0m\n\u001b[1;32m     61\u001b[0m \u001b[39mif\u001b[39;00m \u001b[39mcls\u001b[39m \u001b[39mis\u001b[39;00m FieldArray:\n\u001b[1;32m     62\u001b[0m     \u001b[39mraise\u001b[39;00m \u001b[39mNotImplementedError\u001b[39;00m(\n\u001b[1;32m     63\u001b[0m         \u001b[39m\"\u001b[39m\u001b[39mFieldArray is an abstract base class that cannot be directly instantiated. \u001b[39m\u001b[39m\"\u001b[39m\n\u001b[1;32m     64\u001b[0m         \u001b[39m\"\u001b[39m\u001b[39mInstead, create a FieldArray subclass for GF(p^m) arithmetic using `GF = galois.GF(p**m)` \u001b[39m\u001b[39m\"\u001b[39m\n\u001b[1;32m     65\u001b[0m         \u001b[39m\"\u001b[39m\u001b[39mand instantiate an array using `x = GF(array_like)`.\u001b[39m\u001b[39m\"\u001b[39m\n\u001b[1;32m     66\u001b[0m     )\n\u001b[0;32m---> 67\u001b[0m \u001b[39mreturn\u001b[39;00m \u001b[39msuper\u001b[39;49m()\u001b[39m.\u001b[39;49m\u001b[39m__new__\u001b[39;49m(\u001b[39mcls\u001b[39;49m, x, dtype, copy, order, ndmin)\n",
      "File \u001b[0;32m~/.asdf/installs/python/3.10.4/lib/python3.10/site-packages/galois/_domains/_array.py:51\u001b[0m, in \u001b[0;36mArray.__new__\u001b[0;34m(cls, x, dtype, copy, order, ndmin)\u001b[0m\n\u001b[1;32m     43\u001b[0m     \u001b[39mraise\u001b[39;00m \u001b[39mNotImplementedError\u001b[39;00m(\n\u001b[1;32m     44\u001b[0m         \u001b[39m\"\u001b[39m\u001b[39mArray is an abstract base class that cannot be directly instantiated. \u001b[39m\u001b[39m\"\u001b[39m\n\u001b[1;32m     45\u001b[0m         \u001b[39m\"\u001b[39m\u001b[39mInstead, create an Array subclass for GF(p^m) arithmetic using `GF = galois.GF(p**m)` \u001b[39m\u001b[39m\"\u001b[39m\n\u001b[1;32m     46\u001b[0m         \u001b[39m\"\u001b[39m\u001b[39mand instantiate an array using `x = GF(array_like)`.\u001b[39m\u001b[39m\"\u001b[39m\n\u001b[1;32m     47\u001b[0m     )\n\u001b[1;32m     49\u001b[0m dtype \u001b[39m=\u001b[39m \u001b[39mcls\u001b[39m\u001b[39m.\u001b[39m_get_dtype(dtype)\n\u001b[0;32m---> 51\u001b[0m x \u001b[39m=\u001b[39m \u001b[39mcls\u001b[39;49m\u001b[39m.\u001b[39;49m_verify_array_like_types_and_values(x)\n\u001b[1;32m     52\u001b[0m array \u001b[39m=\u001b[39m np\u001b[39m.\u001b[39marray(x, dtype\u001b[39m=\u001b[39mdtype, copy\u001b[39m=\u001b[39mcopy, order\u001b[39m=\u001b[39morder, ndmin\u001b[39m=\u001b[39mndmin)\n\u001b[1;32m     54\u001b[0m \u001b[39m# Perform view without verification since the elements were verified in _verify_array_like_types_and_values()\u001b[39;00m\n",
      "File \u001b[0;32m~/.asdf/installs/python/3.10.4/lib/python3.10/site-packages/galois/_fields/_array.py:133\u001b[0m, in \u001b[0;36mFieldArray._verify_array_like_types_and_values\u001b[0;34m(cls, x)\u001b[0m\n\u001b[1;32m    130\u001b[0m \u001b[39m@classmethod\u001b[39m\n\u001b[1;32m    131\u001b[0m \u001b[39mdef\u001b[39;00m \u001b[39m_verify_array_like_types_and_values\u001b[39m(\u001b[39mcls\u001b[39m, x: ElementLike \u001b[39m|\u001b[39m ArrayLike) \u001b[39m-\u001b[39m\u001b[39m>\u001b[39m ElementLike \u001b[39m|\u001b[39m ArrayLike:\n\u001b[1;32m    132\u001b[0m     \u001b[39mif\u001b[39;00m \u001b[39misinstance\u001b[39m(x, (\u001b[39mint\u001b[39m, np\u001b[39m.\u001b[39minteger)):\n\u001b[0;32m--> 133\u001b[0m         \u001b[39mcls\u001b[39;49m\u001b[39m.\u001b[39;49m_verify_scalar_value(x)\n\u001b[1;32m    134\u001b[0m     \u001b[39melif\u001b[39;00m \u001b[39misinstance\u001b[39m(x, \u001b[39mcls\u001b[39m):\n\u001b[1;32m    135\u001b[0m         \u001b[39m# This was a previously-created and vetted array -- there's no need to re-verify\u001b[39;00m\n\u001b[1;32m    136\u001b[0m         \u001b[39mif\u001b[39;00m x\u001b[39m.\u001b[39mndim \u001b[39m==\u001b[39m \u001b[39m0\u001b[39m:\n\u001b[1;32m    137\u001b[0m             \u001b[39m# Ensure that in \"large\" fields with dtype=object that FieldArray objects aren't assigned to the array. The arithmetic\u001b[39;00m\n\u001b[1;32m    138\u001b[0m             \u001b[39m# functions are designed to operate on Python ints.\u001b[39;00m\n",
      "File \u001b[0;32m~/.asdf/installs/python/3.10.4/lib/python3.10/site-packages/galois/_fields/_array.py:169\u001b[0m, in \u001b[0;36mFieldArray._verify_scalar_value\u001b[0;34m(cls, scalar)\u001b[0m\n\u001b[1;32m    166\u001b[0m \u001b[39m@classmethod\u001b[39m\n\u001b[1;32m    167\u001b[0m \u001b[39mdef\u001b[39;00m \u001b[39m_verify_scalar_value\u001b[39m(\u001b[39mcls\u001b[39m, scalar: \u001b[39mint\u001b[39m):\n\u001b[1;32m    168\u001b[0m     \u001b[39mif\u001b[39;00m \u001b[39mnot\u001b[39;00m \u001b[39m0\u001b[39m \u001b[39m<\u001b[39m\u001b[39m=\u001b[39m scalar \u001b[39m<\u001b[39m \u001b[39mcls\u001b[39m\u001b[39m.\u001b[39morder:\n\u001b[0;32m--> 169\u001b[0m         \u001b[39mraise\u001b[39;00m \u001b[39mValueError\u001b[39;00m(\u001b[39mf\u001b[39m\u001b[39m\"\u001b[39m\u001b[39m{\u001b[39;00m\u001b[39mcls\u001b[39m\u001b[39m.\u001b[39mname\u001b[39m}\u001b[39;00m\u001b[39m scalars must be in `0 <= x < \u001b[39m\u001b[39m{\u001b[39;00m\u001b[39mcls\u001b[39m\u001b[39m.\u001b[39morder\u001b[39m}\u001b[39;00m\u001b[39m`, not \u001b[39m\u001b[39m{\u001b[39;00mscalar\u001b[39m}\u001b[39;00m\u001b[39m.\u001b[39m\u001b[39m\"\u001b[39m)\n",
      "\u001b[0;31mValueError\u001b[0m: GF(65521) scalars must be in `0 <= x < 65521`, not 1871894934."
     ]
    }
   ],
   "source": [
    "alice = VirtualMachine('alice')     # server 0\n",
    "bob = VirtualMachine('bob')         # server 1\n",
    "charlie = VirtualMachine('charlie') # client\n",
    "\n",
    "shared_state = PrivateScalar(0, alice).share([alice, bob], PRIME) # initial state\n",
    "\n",
    "# Evaluate the state machine on the input 'aaa'\n",
    "shared_state = eval_state_machine('a', shared_state, tf, PRIME, alice, bob, charlie)\n",
    "shared_state = eval_state_machine('a', shared_state, tf, PRIME, alice, bob, charlie)\n",
    "shared_state = eval_state_machine('a', shared_state, tf, PRIME, alice, bob, charlie)\n",
    "\n",
    "print(f\"Reconstructed state from shares: {shared_state.reconstruct(alice)}\") # reconstruct state from shares"
   ]
  },
  {
   "cell_type": "code",
   "execution_count": null,
   "metadata": {},
   "outputs": [
    {
     "name": "stdout",
     "output_type": "stream",
     "text": [
      "State from direct evaluation: 3\n",
      "<class 'int'>\n",
      "<class 'int'>\n",
      "State reconstructed from shares matches state from direct evaluation: True\n"
     ]
    }
   ],
   "source": [
    "state = 0 # initial state\n",
    "\n",
    "state = tf(state, token_to_int('a')) % PRIME\n",
    "state = tf(state, token_to_int('a')) % PRIME\n",
    "state = tf(state, token_to_int('a')) % PRIME\n",
    "\n",
    "print(f\"State from direct evaluation: {state}\")\n",
    "print(\"State reconstructed from shares matches state from direct evaluation:\", shared_state.reconstruct(alice).value == state)"
   ]
  },
  {
   "cell_type": "code",
   "execution_count": null,
   "metadata": {},
   "outputs": [
    {
     "data": {
      "text/plain": [
       "GF(4, order=7)"
      ]
     },
     "execution_count": 13,
     "metadata": {},
     "output_type": "execute_result"
    }
   ],
   "source": [
    "import galois\n",
    "xx = galois.GF(7)\n",
    "xx(3) * -1"
   ]
  },
  {
   "cell_type": "code",
   "execution_count": null,
   "metadata": {},
   "outputs": [],
   "source": []
  }
 ],
 "metadata": {
  "kernelspec": {
   "display_name": "Python 3",
   "language": "python",
   "name": "python3"
  },
  "language_info": {
   "codemirror_mode": {
    "name": "ipython",
    "version": 3
   },
   "file_extension": ".py",
   "mimetype": "text/x-python",
   "name": "python",
   "nbconvert_exporter": "python",
   "pygments_lexer": "ipython3",
   "version": "3.10.4"
  },
  "orig_nbformat": 4,
  "vscode": {
   "interpreter": {
    "hash": "2ab98c4b59af728aa8bd9922870b996a7fc5861c87b81242319b92eec59b5fef"
   }
  }
 },
 "nbformat": 4,
 "nbformat_minor": 2
}
