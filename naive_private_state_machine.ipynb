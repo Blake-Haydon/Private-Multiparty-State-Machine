{
 "cells": [
  {
   "cell_type": "code",
   "execution_count": 1,
   "metadata": {},
   "outputs": [],
   "source": [
    "from tinysmpc import VirtualMachine, PrivateScalar, SharedScalar"
   ]
  },
  {
   "attachments": {},
   "cell_type": "markdown",
   "metadata": {},
   "source": [
    "# Private 2 Party State Machine\n",
    "\n",
    "This notebook demonstrates how a state machine can be privately evaluated using two non-colluding servers. For this protocol \"privacy\" is defined as:\n",
    "- The **servers** do not learn the **input** of the client\n",
    "- The **servers and client** do not know the **current state** of the machine (apart from the initial state)\n",
    "\n",
    "## General Protocol Overview\n",
    "\n",
    "### Preprocessing: Convert Regex to Arithmetic Circuit\n",
    "1. Regex is converted into a [DFA](https://en.wikipedia.org/wiki/Deterministic_finite_automaton) (state machine)\n",
    "2. DFA is converted into a polynomial equation over a finite field (or ring)\n",
    "3. Polynomial converted into arithmetic circuit\n",
    "4. Arithmetic circuit is given each server\n",
    "\n",
    "![Preprocessing](./images/preprocessing.png)\n",
    "*Arithmetic Circuit image By User:Derfel73; User:Tcshasaposse - User:Tcshasaposse, CC BY-SA 3.0, https://commons.wikimedia.org/w/index.php?curid=25138015*\n",
    "\n",
    "### Evaluation: Client Inputs Token\n",
    "1. Client inputs a token (e.g. a character)\n",
    "2. The token is additively secret shared with servers ($token_0$ shared with $server_0$ and $token_1$ shared with $server_1$, where $token_0 + token_1 = input$)\n",
    "3. Servers evaluate the arithmetic circuit using their own individual input share as well as their share of the current state\n",
    "4. If more input go to step 1 \n",
    "5. If evaluation is complete combine the results from the servers to get the final state\n",
    "\n",
    "![Evaluation Steps](./images/evaluation_steps.png)\n",
    "*Arithmetic Circuit image By User:Derfel73; User:Tcshasaposse - User:Tcshasaposse, CC BY-SA 3.0, https://commons.wikimedia.org/w/index.php?curid=25138015*"
   ]
  },
  {
   "attachments": {},
   "cell_type": "markdown",
   "metadata": {},
   "source": [
    "## 1. Regex to State Machine\n",
    "\n",
    "For this demo we will be basing our state machine off the regex expression \"ab\". This machine will only accept the string \"ab\" and nothing else. The state machine can be visualized as follows:\n",
    "\n",
    "![transition graph of state machine for regex \"ab\"](./images/ab_transition_graph.png)\n",
    "<!-- Generated using https://ivanzuzak.info/noam/webapps/fsm_simulator/ -->\n",
    "\n",
    "### State Table for \"ab\"\n",
    "\n",
    "|             | **INPUT 'a'** | **INPUT 'b'** |\n",
    "| ----------- | ------------- | ------------- |\n",
    "| **STATE 0** | STATE 2       | STATE 3       |\n",
    "| **STATE 1** | STATE 3       | STATE 3       |\n",
    "| **STATE 2** | STATE 3       | STATE 1       |\n",
    "| **STATE 3** | STATE 3       | STATE 3       |\n",
    "\n",
    "## 2. State Machine to Polynomial Representation\n",
    "\n",
    "To interpolate we can visualize the state transition table as a bunch of 3D points.\n",
    "\n",
    "| **STATE** | **INPUT ('a'=0 and 'b'=1)** | **NEXT STATE ** |\n",
    "| --------- | --------------------------- | --------------- |\n",
    "| 0         | 0                           | 2               |\n",
    "| 1         | 0                           | 3               |\n",
    "| 2         | 0                           | 3               |\n",
    "| 3         | 0                           | 3               |\n",
    "| 0         | 1                           | 3               |\n",
    "| 1         | 1                           | 3               |\n",
    "| 2         | 1                           | 1               |\n",
    "| 3         | 1                           | 3               |\n",
    "\n",
    "We can now use bilinear interpolation to construct this equation:\n",
    "\n",
    "$$f(x, y) = 2 + 1y + 10922x + 54602xy + 65520x^2 + 65518x^2y + 54601x^3 + 10921x^3y$$\n",
    "\n",
    "This equation may look complicated by is fully represents the state machine above over a Galois ring where $p = 65521$. "
   ]
  },
  {
   "cell_type": "code",
   "execution_count": 2,
   "metadata": {},
   "outputs": [],
   "source": [
    "PRIME = 65521\n",
    "\n",
    "def tf(s, t):\n",
    "    \"\"\"\n",
    "    Transition function for the regex example 'ab' over a Galois ring where p = 65521.\n",
    "    \n",
    "    (STATE, INPUT) -> NEXT STATE\n",
    "\n",
    "    Args:\n",
    "        s : The current state\n",
    "        t : The input token\n",
    "    \"\"\"\n",
    "\n",
    "    return 2 + 1*t + 10922*s + 54602*s*t + 65520*(s**2) + 65518*(s**2)*t + 54601*(s**3) + 10921*(s**3)*t\n",
    "\n",
    "def token_to_int(token):\n",
    "    \"\"\"Converts a token to an integer so that it can be read by the state machine\n",
    "    \n",
    "    Args:\n",
    "        token : The token to convert\n",
    "    \"\"\"\n",
    "    if token == 'a':\n",
    "        return 0\n",
    "    elif token == 'b':\n",
    "        return 1\n",
    "    else:\n",
    "        raise ValueError('Invalid token')\n",
    "\n",
    "\n",
    "def eval_state_machine(token, shared_state, tf, PRIME, alice, bob, charlie):\n",
    "    \"\"\"Evaluates the state machine using the given transition function\n",
    "    \n",
    "    Args:\n",
    "        token(str) : The token to evaluate\n",
    "        shared_state : The current shared state of the state machine\n",
    "        tf : The transition function\n",
    "        PRIME : The prime used for the Galois ring\n",
    "        alice : Server 0\n",
    "        bob : Server 1\n",
    "        charlie : The client sending the token\n",
    "    \"\"\"\n",
    "    token_int = token_to_int(token)\n",
    "    token = PrivateScalar(token_int, charlie)       # client inputs new token\n",
    "    shared_token = token.share([alice, bob], PRIME) # client shares token with servers\n",
    "    return tf(shared_state, shared_token)           # servers compute new state using shares of current state and token"
   ]
  },
  {
   "cell_type": "code",
   "execution_count": 3,
   "metadata": {},
   "outputs": [
    {
     "name": "stdout",
     "output_type": "stream",
     "text": [
      "Reconstructed state from shares: PrivateScalar(3, 'alice')\n"
     ]
    }
   ],
   "source": [
    "alice = VirtualMachine('alice')     # server 0\n",
    "bob = VirtualMachine('bob')         # server 1\n",
    "charlie = VirtualMachine('charlie') # client\n",
    "\n",
    "state = PrivateScalar(0, alice)                 # initial state\n",
    "shared_state = state.share([alice, bob], PRIME) # initial state shared with servers (this is technically not necessary, but for this API it is)\n",
    "\n",
    "# Evaluate the state machine on the input 'aaa'\n",
    "shared_state = eval_state_machine('a', shared_state, tf, PRIME, alice, bob, charlie)\n",
    "shared_state = eval_state_machine('a', shared_state, tf, PRIME, alice, bob, charlie)\n",
    "shared_state = eval_state_machine('a', shared_state, tf, PRIME, alice, bob, charlie)\n",
    "\n",
    "print(f\"Reconstructed state from shares: {shared_state.reconstruct(alice)}\") # reconstruct state from shares"
   ]
  },
  {
   "cell_type": "code",
   "execution_count": 4,
   "metadata": {},
   "outputs": [
    {
     "name": "stdout",
     "output_type": "stream",
     "text": [
      "State from direct evaluation: 3\n",
      "State reconstructed from shares matches state from direct evaluation: True\n"
     ]
    }
   ],
   "source": [
    "state = 0 # initial state\n",
    "\n",
    "state = tf(state, token_to_int('a')) % PRIME\n",
    "state = tf(state, token_to_int('a')) % PRIME\n",
    "state = tf(state, token_to_int('a')) % PRIME\n",
    "\n",
    "print(f\"State from direct evaluation: {state}\")\n",
    "print(\"State reconstructed from shares matches state from direct evaluation:\", shared_state.reconstruct(alice).value == state)"
   ]
  }
 ],
 "metadata": {
  "kernelspec": {
   "display_name": "Python 3",
   "language": "python",
   "name": "python3"
  },
  "language_info": {
   "codemirror_mode": {
    "name": "ipython",
    "version": 3
   },
   "file_extension": ".py",
   "mimetype": "text/x-python",
   "name": "python",
   "nbconvert_exporter": "python",
   "pygments_lexer": "ipython3",
   "version": "3.10.4 (main, Mar 25 2022, 14:53:18) [Clang 13.1.6 (clang-1316.0.21.2)]"
  },
  "orig_nbformat": 4,
  "vscode": {
   "interpreter": {
    "hash": "2ab98c4b59af728aa8bd9922870b996a7fc5861c87b81242319b92eec59b5fef"
   }
  }
 },
 "nbformat": 4,
 "nbformat_minor": 2
}
